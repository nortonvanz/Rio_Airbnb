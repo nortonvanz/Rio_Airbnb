{
  "nbformat": 4,
  "nbformat_minor": 0,
  "metadata": {
    "colab": {
      "provenance": [],
      "authorship_tag": "ABX9TyMdKPgVXkrt41F5RdxAQMmx",
      "include_colab_link": true
    },
    "kernelspec": {
      "name": "python3",
      "display_name": "Python 3"
    },
    "language_info": {
      "name": "python"
    }
  },
  "cells": [
    {
      "cell_type": "markdown",
      "metadata": {
        "id": "view-in-github",
        "colab_type": "text"
      },
      "source": [
        "<a href=\"https://colab.research.google.com/github/nortonvanz/Texas_Airbnb/blob/main/NPS_Texas_Airbnb_c1.ipynb\" target=\"_parent\"><img src=\"https://colab.research.google.com/assets/colab-badge.svg\" alt=\"Open In Colab\"/></a>"
      ]
    },
    {
      "cell_type": "markdown",
      "source": [
        "# Objetivo"
      ],
      "metadata": {
        "id": "3tNm7FyRgqkn"
      }
    },
    {
      "cell_type": "markdown",
      "source": [
        "Dataset: Rio Airbnb"
      ],
      "metadata": {
        "id": "jd9EzFygguC0"
      }
    },
    {
      "cell_type": "markdown",
      "source": [
        "\n",
        "\n",
        "Objectives - Cycle 1:\n",
        "\n",
        "Using pyspark:\n",
        "\n",
        "- 1 Eliminate properties without review\n",
        "- 2 Identify customers who were detractors in some evaluation\n",
        "- 3 Get bag of words from these negative reviews"
      ],
      "metadata": {
        "id": "pRvEdf2ci5Dj"
      }
    },
    {
      "cell_type": "markdown",
      "source": [
        "# Cycle 1"
      ],
      "metadata": {
        "id": "dGScG3i_g2GJ"
      }
    },
    {
      "cell_type": "markdown",
      "source": [
        "## Imports"
      ],
      "metadata": {
        "id": "GvsucG9eg5Qg"
      }
    },
    {
      "cell_type": "markdown",
      "source": [
        "### PySpark"
      ],
      "metadata": {
        "id": "QLzJ4qa2aCdl"
      }
    },
    {
      "cell_type": "code",
      "source": [
        "#pyspark libs and dependencies\n",
        "!apt-get install openjdk-8-jdk-headless -qq > /dev/null\n",
        "!wget -q https://archive.apache.org/dist/spark/spark-3.1.2/spark-3.1.2-bin-hadoop2.7.tgz\n",
        "!tar xf spark-3.1.2-bin-hadoop2.7.tgz\n",
        "!pip install -q findspark"
      ],
      "metadata": {
        "id": "_akLpnL5ibaB"
      },
      "execution_count": 2,
      "outputs": []
    },
    {
      "cell_type": "code",
      "source": [
        "import os\n",
        "import findspark\n",
        "\n",
        "#configure JAVA_HOME and SPARK_HOME environment variables in Google Colab, indicating where Java and Apache Spark are installed in the environment\n",
        "os.environ[\"JAVA_HOME\"] = \"/usr/lib/jvm/java-8-openjdk-amd64\"\n",
        "os.environ[\"SPARK_HOME\"] = \"/content/spark-3.1.2-bin-hadoop2.7\"\n",
        "\n",
        "#Launch findspark, a Python library that helps you locate the Apache Spark installation on your system and configure the Python environment to interact with Spark.\n",
        "findspark.init()"
      ],
      "metadata": {
        "id": "Mwj-fQGwY9de"
      },
      "execution_count": 3,
      "outputs": []
    },
    {
      "cell_type": "code",
      "source": [
        "from pyspark.sql import SparkSession\n",
        "from pyspark.sql.functions import *\n",
        "\n",
        "#Create a Spark session using the PySpark library\n",
        "spark = SparkSession.builder \\\n",
        "    .master('local[*]') \\\n",
        "    .appName('Iniciando com Spark') \\\n",
        "    .config('spark.ui.port', '4050') \\\n",
        "    .getOrCreate()"
      ],
      "metadata": {
        "id": "geRSYPISidPt"
      },
      "execution_count": 4,
      "outputs": []
    },
    {
      "cell_type": "markdown",
      "source": [
        "### Imports"
      ],
      "metadata": {
        "id": "iqagv39YayIs"
      }
    },
    {
      "cell_type": "code",
      "source": [
        "#extract gzip\n",
        "import gzip\n",
        "import shutil\n",
        "\n",
        "#sentiment analysis\n",
        "from textblob import TextBlob\n",
        "\n",
        "#User Defined Function (UDF)\n",
        "from pyspark.sql.functions import udf\n",
        "from pyspark.sql.types import StringType"
      ],
      "metadata": {
        "id": "wp8LbmLPYqL1"
      },
      "execution_count": 6,
      "outputs": []
    },
    {
      "cell_type": "markdown",
      "source": [
        "## Load data"
      ],
      "metadata": {
        "id": "PBlS3R3elF6Q"
      }
    },
    {
      "cell_type": "code",
      "source": [
        "#Upload datasets directly from Inside Airbnb to the Colab temporary environment:\n",
        "  #Dasets: http://insideairbnb.com/get-the-data/\n",
        "\n",
        "# listings.csv.gz = Detailed Listings Data\n",
        "!wget --quiet --show-progress http://data.insideairbnb.com/united-states/tx/austin/2023-09-10/data/listings.csv.gz\n",
        "\n",
        "# reviews.csv.gz = Detailed Review Data (.gz, contains comments, not on summarized .csv)\n",
        "!wget --quiet --show-progress http://data.insideairbnb.com/united-states/tx/austin/2023-09-10/data/reviews.csv.gz"
      ],
      "metadata": {
        "colab": {
          "base_uri": "https://localhost:8080/"
        },
        "id": "EDYjmjQeTKCv",
        "outputId": "8d6bb7f0-e168-4e9c-bc6e-f06a3903b8cc"
      },
      "execution_count": 7,
      "outputs": [
        {
          "output_type": "stream",
          "name": "stdout",
          "text": [
            "listings.csv.gz.1   100%[===================>]   9.99M  26.6MB/s    in 0.4s    \n",
            "reviews.csv.gz.1    100%[===================>]  53.55M  25.7MB/s    in 2.1s    \n"
          ]
        }
      ]
    },
    {
      "cell_type": "code",
      "source": [
        "#unzip datasets:\n",
        "\n",
        "input_file = \"reviews.csv.gz\"\n",
        "output_file = \"reviews.csv\"\n",
        "\n",
        "with gzip.open(input_file, 'rb') as f_in:\n",
        "    with open(output_file, 'wb') as f_out:\n",
        "        shutil.copyfileobj(f_in, f_out)\n",
        "print(f'O arquivo {input_file} foi descompactado para {output_file}.')\n",
        "\n",
        "\n",
        "input_file2 = \"listings.csv.gz\"\n",
        "output_file2 = \"listings.csv\"\n",
        "\n",
        "with gzip.open(input_file2, 'rb') as f_in:\n",
        "    with open(output_file2, 'wb') as f_out:\n",
        "        shutil.copyfileobj(f_in, f_out)\n",
        "print(f'O arquivo {input_file2} foi descompactado para {output_file2}.')"
      ],
      "metadata": {
        "colab": {
          "base_uri": "https://localhost:8080/"
        },
        "id": "oOBvtZUpnuIR",
        "outputId": "743ac79e-2223-4e0c-efef-9e38348936e0"
      },
      "execution_count": 8,
      "outputs": [
        {
          "output_type": "stream",
          "name": "stdout",
          "text": [
            "O arquivo reviews.csv.gz foi descompactado para reviews.csv.\n",
            "O arquivo listings.csv.gz foi descompactado para listings.csv.\n"
          ]
        }
      ]
    },
    {
      "cell_type": "code",
      "source": [
        "# Load real estate dataset\n",
        "df_houses = spark.read.csv(\"listings.csv\", header=True, inferSchema=True)\n",
        "\n",
        "# Load review dataset\n",
        "df_reviews = spark.read.csv(\"reviews.csv\", header=True, inferSchema=True)"
      ],
      "metadata": {
        "id": "PyqfbYa55ifv"
      },
      "execution_count": 9,
      "outputs": []
    },
    {
      "cell_type": "code",
      "source": [
        "#houses\n",
        "df_houses.show(3)"
      ],
      "metadata": {
        "colab": {
          "base_uri": "https://localhost:8080/"
        },
        "id": "Mh7g39eqocBr",
        "outputId": "8c4e9b5a-7d47-4fc5-ae8e-603e04c43110"
      },
      "execution_count": 10,
      "outputs": [
        {
          "output_type": "stream",
          "name": "stdout",
          "text": [
            "+----+--------------------+--------------+------------+---------------+--------------------+--------------------+---------------------+--------------------+-------+--------------------+---------+----------+-------------+--------------------+------------------+------------------+--------------------+-----------------+--------------------+--------------------+------------------+-------------------+-------------------------+--------------------+--------------------+----------------------+--------------------+----------------------+----------------------------+--------+---------+--------------------+---------------+------------+---------+--------------+--------+----+--------------------+--------------------+--------------------+--------------------+----------------------+----------------------+----------------------+----------------------+----------------------+----------------------+--------------------+-----------------+--------------------+--------------------+---------------+-----------------+---------------------+--------------------+---------------------+----------------------+--------------------+-----------------+--------------------+----------------------+-------------------------+---------------------+---------------------------+----------------------+-------------------+--------------------+----------------+------------------------------+-------------------------------------------+--------------------------------------------+-------------------------------------------+--------------------+\n",
            "|  id|         listing_url|     scrape_id|last_scraped|         source|                name|         description|neighborhood_overview|         picture_url|host_id|            host_url|host_name|host_since|host_location|          host_about|host_response_time|host_response_rate|host_acceptance_rate|host_is_superhost|  host_thumbnail_url|    host_picture_url|host_neighbourhood|host_listings_count|host_total_listings_count|  host_verifications|host_has_profile_pic|host_identity_verified|       neighbourhood|neighbourhood_cleansed|neighbourhood_group_cleansed|latitude|longitude|       property_type|      room_type|accommodates|bathrooms|bathrooms_text|bedrooms|beds|           amenities|               price|      minimum_nights|      maximum_nights|minimum_minimum_nights|maximum_minimum_nights|minimum_maximum_nights|maximum_maximum_nights|minimum_nights_avg_ntm|maximum_nights_avg_ntm|    calendar_updated| has_availability|     availability_30|     availability_60|availability_90| availability_365|calendar_last_scraped|   number_of_reviews|number_of_reviews_ltm|number_of_reviews_l30d|        first_review|      last_review|review_scores_rating|review_scores_accuracy|review_scores_cleanliness|review_scores_checkin|review_scores_communication|review_scores_location|review_scores_value|             license|instant_bookable|calculated_host_listings_count|calculated_host_listings_count_entire_homes|calculated_host_listings_count_private_rooms|calculated_host_listings_count_shared_rooms|   reviews_per_month|\n",
            "+----+--------------------+--------------+------------+---------------+--------------------+--------------------+---------------------+--------------------+-------+--------------------+---------+----------+-------------+--------------------+------------------+------------------+--------------------+-----------------+--------------------+--------------------+------------------+-------------------+-------------------------+--------------------+--------------------+----------------------+--------------------+----------------------+----------------------------+--------+---------+--------------------+---------------+------------+---------+--------------+--------+----+--------------------+--------------------+--------------------+--------------------+----------------------+----------------------+----------------------+----------------------+----------------------+----------------------+--------------------+-----------------+--------------------+--------------------+---------------+-----------------+---------------------+--------------------+---------------------+----------------------+--------------------+-----------------+--------------------+----------------------+-------------------------+---------------------+---------------------------+----------------------+-------------------+--------------------+----------------+------------------------------+-------------------------------------------+--------------------------------------------+-------------------------------------------+--------------------+\n",
            "|5456|https://www.airbn...|20230910055936|  2023-09-10|    city scrape|Guesthouse in Aus...|Week of July 31 -...| My neighborhood i...|https://a0.muscac...|   8028|https://www.airbn...|   Sylvia|2009-02-16|   Austin, TX|I am a licensed R...|    within an hour|              100%|                 97%|                t|https://a0.muscac...|https://a0.muscac...|     East Downtown|                  1|                        4|  ['email', 'phone']|                   t|                     t|Austin, Texas, Un...|                 78702|                        null|30.26057|-97.73441|   Entire guesthouse|Entire home/apt|           3|     null|        1 bath|       1|   2|\"[\"\"Air condition...|       \"\"Hot water\"\"| \"\"Dishes and sil...| \"\"Luggage dropof...|        \"\"Hair dryer\"\"|   \"\"Free street pa...|   \"\"Long term stay...|        \"\"Essentials\"\"|         \"\"Microwave\"\"|           \"\"Kitchen\"\"|      \"\"Bed linens\"\"| \"\"Coffee maker\"\"| \"\"HDTV with Amaz...|             HBO Max|           Hulu|          Netflix|               Roku\"\"| \"\"Private entran...|          \"\"Hangers\"\"|      \"\"Refrigerator\"\"| \"\"Security camer...|  \"\"Smoke alarm\"\"|          \"\"Keypad\"\"|   \"\"Patio or balco...|      \"\"Extra pillows ...|          \"\"Heating\"\"|                   \"\"Wifi\"\"|          \"\"Backyard\"\"|        \"\"Shampoo\"\"|   \"\"Self check-in\"\"|      \"\"Iron\"\"]\"|                       $126.00|                                          2|                                          90|                                          1|                   2|\n",
            "|5769|https://www.airbn...|20230910055936|  2023-09-11|previous scrape|Home in Austin · ...|<b>The space</b><...| Quiet neighborhoo...|https://a0.muscac...|   8186|https://www.airbn...|Elizabeth|2009-02-19|   Austin, TX|We're easygoing p...|    within an hour|              100%|                 91%|                t|https://a0.muscac...|https://a0.muscac...| SW Williamson Co.|                  1|                        4|['email', 'phone'...|                   t|                     t|Austin, Texas, Un...|                 78729|                        null|30.45697|-97.78422|Private room in home|   Private room|           2|     null| 1 shared bath|    null|   1|\"[\"\"Wifi \\u2013 4...| \"\"Lock on bedroo...|     \"\"Conditioner\"\"|       \"\"Hot water\"\"|   \"\"Dishes and sil...|      \"\"Wine glasses\"\"|   \"\"Host greets you\"\"|        \"\"Hair dryer\"\"|   \"\"Single level h...|        \"\"Essentials\"\"| \"\"Private backya...|    \"\"Microwave\"\"|      \"\"Bed linens\"\"| \"\"Central heating\"\"|  \"\"Body soap\"\"| \"\"Pets allowed\"\"|  \"\"Outdoor dining...|         \"\"Hangers\"\"|  \"\"Outdoor furnit...|     \"\"First aid kit\"\"|         \"\"Toaster\"\"| \"\"Refrigerator\"\"| \"\"Fire extinguis...|   \"\"Security camer...|          \"\"Smoke alarm\"\"|  \"\"Portable heater\"\"|        \"\"TV with DVD pl...|   \"\"Extra pillows ...|        \"\"Bathtub\"\"| \"\"Central air co...| \"\"Ceiling fan\"\"|                   \"\"Shampoo\"\"|                          \"\"Portable fans\"\"|                            \"\"Dining table\"\"|                        \"\"Shared patio o...| \"\"Free parking o...|\n",
            "|6413|https://www.airbn...|20230910055936|  2023-09-11|previous scrape|Guesthouse in Aus...|Great studio apar...| Travis Heights is...|https://a0.muscac...|  13879|https://www.airbn...|     Todd|2009-04-17|   Austin, TX|We're a young fam...|              null|              null|                null|             null|                null|                null|              null|               null|                     null|                null|                null|                  null|                null|                  null|                        null|    null|     null|                null|           null|        null|     null|          null|    null|null|                null|                null|                null|                null|                  null|                  null|                  null|                  null|                  null|                  null|                null|             null|                null|                null|           null|             null|                 null|                null|                 null|                  null|                null|             null|                null|                  null|                     null|                 null|                       null|                  null|               null|                null|            null|                          null|                                       null|                                        null|                                       null|                null|\n",
            "+----+--------------------+--------------+------------+---------------+--------------------+--------------------+---------------------+--------------------+-------+--------------------+---------+----------+-------------+--------------------+------------------+------------------+--------------------+-----------------+--------------------+--------------------+------------------+-------------------+-------------------------+--------------------+--------------------+----------------------+--------------------+----------------------+----------------------------+--------+---------+--------------------+---------------+------------+---------+--------------+--------+----+--------------------+--------------------+--------------------+--------------------+----------------------+----------------------+----------------------+----------------------+----------------------+----------------------+--------------------+-----------------+--------------------+--------------------+---------------+-----------------+---------------------+--------------------+---------------------+----------------------+--------------------+-----------------+--------------------+----------------------+-------------------------+---------------------+---------------------------+----------------------+-------------------+--------------------+----------------+------------------------------+-------------------------------------------+--------------------------------------------+-------------------------------------------+--------------------+\n",
            "only showing top 3 rows\n",
            "\n"
          ]
        }
      ]
    },
    {
      "cell_type": "code",
      "source": [
        "#rows\n",
        "df_houses.count()"
      ],
      "metadata": {
        "colab": {
          "base_uri": "https://localhost:8080/"
        },
        "id": "2try1xFL8r0J",
        "outputId": "84d155db-52f0-4192-f287-192d3b85af46"
      },
      "execution_count": 11,
      "outputs": [
        {
          "output_type": "execute_result",
          "data": {
            "text/plain": [
              "24182"
            ]
          },
          "metadata": {},
          "execution_count": 11
        }
      ]
    },
    {
      "cell_type": "code",
      "source": [
        "#reviews\n",
        "df_reviews.show(3)"
      ],
      "metadata": {
        "colab": {
          "base_uri": "https://localhost:8080/"
        },
        "id": "f3jQC9ST51HR",
        "outputId": "19fd0b3b-87eb-4d90-f3ff-fb08cd00b70c"
      },
      "execution_count": 12,
      "outputs": [
        {
          "output_type": "stream",
          "name": "stdout",
          "text": [
            "+----------+-------+----------+-----------+-------------+--------------------+\n",
            "|listing_id|     id|      date|reviewer_id|reviewer_name|            comments|\n",
            "+----------+-------+----------+-----------+-------------+--------------------+\n",
            "|      5456|    865|2009-03-08|       5267|        Ellen|Sylvia is a hoste...|\n",
            "|    282342| 913203|2012-02-11|     633688|      Claudia|This is a fantast...|\n",
            "|    282342|1064098|2012-03-31|    1613219|        Kerry|Chris and his fam...|\n",
            "+----------+-------+----------+-----------+-------------+--------------------+\n",
            "only showing top 3 rows\n",
            "\n"
          ]
        }
      ]
    },
    {
      "cell_type": "code",
      "source": [
        "#rows\n",
        "df_reviews.count()"
      ],
      "metadata": {
        "colab": {
          "base_uri": "https://localhost:8080/"
        },
        "id": "iuo6VM-O8ey_",
        "outputId": "654d3e22-975e-48bd-a99d-7bbce59909fe"
      },
      "execution_count": 14,
      "outputs": [
        {
          "output_type": "execute_result",
          "data": {
            "text/plain": [
              "583744"
            ]
          },
          "metadata": {},
          "execution_count": 14
        }
      ]
    },
    {
      "cell_type": "markdown",
      "source": [
        "## Create Views"
      ],
      "metadata": {
        "id": "xZqi2ftD9CyG"
      }
    },
    {
      "cell_type": "code",
      "source": [
        "#create views from datasets\n",
        "df_houses.createOrReplaceTempView(\"houses\")\n",
        "df_reviews.createOrReplaceTempView(\"reviews\")"
      ],
      "metadata": {
        "id": "iU2v7ptn9FKx"
      },
      "execution_count": 15,
      "outputs": []
    },
    {
      "cell_type": "markdown",
      "source": [
        "## 1 Eliminate properties without review"
      ],
      "metadata": {
        "id": "lFuX_DsM9I-9"
      }
    },
    {
      "cell_type": "code",
      "source": [
        "# Select 1 property: https://www.airbnb.com.br/rooms/5456"
      ],
      "metadata": {
        "id": "EblQR-SnlIBg"
      },
      "execution_count": 16,
      "outputs": []
    },
    {
      "cell_type": "code",
      "source": [
        "#SPARK SQL\n",
        "spark.sql('''\n",
        "          SELECT\n",
        "            *\n",
        "          FROM houses h\n",
        "          WHERE h.id = 5456\n",
        "\n",
        "          --WHERE host_name like '%Serita%'\n",
        "        ''').show(10, truncate=False)"
      ],
      "metadata": {
        "colab": {
          "base_uri": "https://localhost:8080/"
        },
        "id": "ll1ntOcYlH_K",
        "outputId": "96571819-c16d-4955-f517-a1e0113c29a3"
      },
      "execution_count": 17,
      "outputs": [
        {
          "output_type": "stream",
          "name": "stdout",
          "text": [
            "+----+---------------------------------+--------------+------------+-----------+----------------------------------------------------------+----------------------------------------------------------------------------------------------------------------------------------------------------------------------------------------------------------------------------------------------------------------------------------------------------------------------------------------------------------------------------------------------------------------------------------------------------------------------------------------------------------------------------------------------------------------------------------------------------------------------------------------------------------------------------------------------------------------------------------------------------------------------------------------------------------------------------------------------------------------------------------------------------------------------------------------------------------------------------------------------------------------------------------------+-----------------------------------------------------------------------------------------------------------------------------------------------------------------------------------------------------------------------------------------------------------+---------------------------------------------------------------+-------+--------------------------------------+---------+----------+-------------+-------------------------------------------------------------------------------------------------------------------------------------------------------------------------------------------------------------------------------------------------------------------------------------------------------------------------------------------------------------------------------------------------------------------------------------------------------------------------------------------------------------------------------------------------------------------------------------------------------------------------------------------------------------------------+------------------+------------------+--------------------+-----------------+--------------------------------------------------------------------------------------------------+-----------------------------------------------------------------------------------------------------+------------------+-------------------+-------------------------+------------------+--------------------+----------------------+----------------------------+----------------------+----------------------------+--------+---------+-----------------+---------------+------------+---------+--------------+--------+----+----------------------+--------------+--------------------------+----------------------------+----------------------+------------------------+----------------------------+----------------------+----------------------+----------------------+----------------+-----------------+-------------------------------+---------------+---------------+----------------+---------------------+---------------------+---------------------+----------------------+---------------------------------+----------------+--------------------+----------------------+-------------------------------+---------------------+---------------------------+----------------------+-------------------+------------------+----------------+------------------------------+-------------------------------------------+--------------------------------------------+-------------------------------------------+-----------------+\n",
            "|id  |listing_url                      |scrape_id     |last_scraped|source     |name                                                      |description                                                                                                                                                                                                                                                                                                                                                                                                                                                                                                                                                                                                                                                                                                                                                                                                                                                                                                                                                                                                                             |neighborhood_overview                                                                                                                                                                                                                                      |picture_url                                                    |host_id|host_url                              |host_name|host_since|host_location|host_about                                                                                                                                                                                                                                                                                                                                                                                                                                                                                                                                                                                                                                                               |host_response_time|host_response_rate|host_acceptance_rate|host_is_superhost|host_thumbnail_url                                                                                |host_picture_url                                                                                     |host_neighbourhood|host_listings_count|host_total_listings_count|host_verifications|host_has_profile_pic|host_identity_verified|neighbourhood               |neighbourhood_cleansed|neighbourhood_group_cleansed|latitude|longitude|property_type    |room_type      |accommodates|bathrooms|bathrooms_text|bedrooms|beds|amenities             |price         |minimum_nights            |maximum_nights              |minimum_minimum_nights|maximum_minimum_nights  |minimum_maximum_nights      |maximum_maximum_nights|minimum_nights_avg_ntm|maximum_nights_avg_ntm|calendar_updated|has_availability |availability_30                |availability_60|availability_90|availability_365|calendar_last_scraped|number_of_reviews    |number_of_reviews_ltm|number_of_reviews_l30d|first_review                     |last_review     |review_scores_rating|review_scores_accuracy|review_scores_cleanliness      |review_scores_checkin|review_scores_communication|review_scores_location|review_scores_value|license           |instant_bookable|calculated_host_listings_count|calculated_host_listings_count_entire_homes|calculated_host_listings_count_private_rooms|calculated_host_listings_count_shared_rooms|reviews_per_month|\n",
            "+----+---------------------------------+--------------+------------+-----------+----------------------------------------------------------+----------------------------------------------------------------------------------------------------------------------------------------------------------------------------------------------------------------------------------------------------------------------------------------------------------------------------------------------------------------------------------------------------------------------------------------------------------------------------------------------------------------------------------------------------------------------------------------------------------------------------------------------------------------------------------------------------------------------------------------------------------------------------------------------------------------------------------------------------------------------------------------------------------------------------------------------------------------------------------------------------------------------------------------+-----------------------------------------------------------------------------------------------------------------------------------------------------------------------------------------------------------------------------------------------------------+---------------------------------------------------------------+-------+--------------------------------------+---------+----------+-------------+-------------------------------------------------------------------------------------------------------------------------------------------------------------------------------------------------------------------------------------------------------------------------------------------------------------------------------------------------------------------------------------------------------------------------------------------------------------------------------------------------------------------------------------------------------------------------------------------------------------------------------------------------------------------------+------------------+------------------+--------------------+-----------------+--------------------------------------------------------------------------------------------------+-----------------------------------------------------------------------------------------------------+------------------+-------------------+-------------------------+------------------+--------------------+----------------------+----------------------------+----------------------+----------------------------+--------+---------+-----------------+---------------+------------+---------+--------------+--------+----+----------------------+--------------+--------------------------+----------------------------+----------------------+------------------------+----------------------------+----------------------+----------------------+----------------------+----------------+-----------------+-------------------------------+---------------+---------------+----------------+---------------------+---------------------+---------------------+----------------------+---------------------------------+----------------+--------------------+----------------------+-------------------------------+---------------------+---------------------------+----------------------+-------------------+------------------+----------------+------------------------------+-------------------------------------------+--------------------------------------------+-------------------------------------------+-----------------+\n",
            "|5456|https://www.airbnb.com/rooms/5456|20230910055936|2023-09-10  |city scrape|Guesthouse in Austin · ★4.84 · 1 bedroom · 2 beds · 1 bath|Week of July 31 - Aug 10  require min of 5 night booking. <br /><br />Great central  location for walking to Convention Center, Rainey Street, East 6th Street, Downtown, Congress Ave Bats.<br /><br />  Free wifi<br /><br />No Smoking,  No pets<br /><br /><b>The space</b><br />Cute Private  Studio apartment located in Willow Spence National Historic District.  It is  walking distance from Convention Center (3 1/2 blks) and Entertainment District. Save on cab fares.  Bus stop around the corner, takes you straight downtown.  <br /><br />Worried about food?  Great food abounds!  Iron works BBQ 3 blks away,  Cenote ,   Rainey Street with bars and restaurants only 2 1/2 blks away , all within a safe walking distance.  Whole Foods and Target  and multiple restaurant and bars are only 6 blks away.<br /> The apartment is located upstairs above garage, completely separate from the main house.  This little 1930's apartment features wood floors and lots of windows.   The kitchen has a full size re|My neighborhood is ideally located if you want to walk to bars and restaurants downtown, East 6th Street or Rainey Street.  The Convention Center is only 3 1/2 blocks away and a quick 10 minute walk. Whole foods store located 5 blks , easily walkable.|https://a0.muscache.com/pictures/14084884/b5a35a84_original.jpg|8028   |https://www.airbnb.com/users/show/8028|Sylvia   |2009-02-16|Austin, TX   |I am a licensed Real Estate Broker and owner of Armadillo Realty.  I attended The University of Texas at Austin and fell in love with the small town that it was back in 1979; I have been here every since.  I love the Art, Music and Film scene here in Austin.  There is so much natural beauty to enjoy as well. I especially enjoy Barton Springs Pool in the summertime along with the Zilker Hillside theater productions. SXSW, Austin City Limits Festival and the East Austin Art Studio Tour are among my favorite events. I also enjoy a sunset cruise on my canoe to Congress bridge to see the Mexican Freetail Bats come out for their nightly feeding.  |within an hour    |100%              |97%                 |t                |https://a0.muscache.com/im/users/8028/profile_pic/1329882962/original.jpg?aki_policy=profile_small|https://a0.muscache.com/im/users/8028/profile_pic/1329882962/original.jpg?aki_policy=profile_x_medium|East Downtown     |1                  |4                        |['email', 'phone']|t                   |t                     |Austin, Texas, United States|78702                 |null                        |30.26057|-97.73441|Entire guesthouse|Entire home/apt|3           |null     |1 bath        |1       |2   |\"[\"\"Air conditioning\"\"| \"\"Hot water\"\"| \"\"Dishes and silverware\"\"| \"\"Luggage dropoff allowed\"\"| \"\"Hair dryer\"\"       | \"\"Free street parking\"\"| \"\"Long term stays allowed\"\"| \"\"Essentials\"\"       | \"\"Microwave\"\"        | \"\"Kitchen\"\"          | \"\"Bed linens\"\" | \"\"Coffee maker\"\"| \"\"HDTV with Amazon Prime Video| HBO Max       | Hulu          | Netflix        | Roku\"\"              | \"\"Private entrance\"\"| \"\"Hangers\"\"         | \"\"Refrigerator\"\"     | \"\"Security cameras on property\"\"| \"\"Smoke alarm\"\"| \"\"Keypad\"\"         | \"\"Patio or balcony\"\" | \"\"Extra pillows and blankets\"\"| \"\"Heating\"\"         | \"\"Wifi\"\"                  | \"\"Backyard\"\"         | \"\"Shampoo\"\"       | \"\"Self check-in\"\"| \"\"Iron\"\"]\"     |$126.00                       |2                                          |90                                          |1                                          |2                |\n",
            "+----+---------------------------------+--------------+------------+-----------+----------------------------------------------------------+----------------------------------------------------------------------------------------------------------------------------------------------------------------------------------------------------------------------------------------------------------------------------------------------------------------------------------------------------------------------------------------------------------------------------------------------------------------------------------------------------------------------------------------------------------------------------------------------------------------------------------------------------------------------------------------------------------------------------------------------------------------------------------------------------------------------------------------------------------------------------------------------------------------------------------------------------------------------------------------------------------------------------------------+-----------------------------------------------------------------------------------------------------------------------------------------------------------------------------------------------------------------------------------------------------------+---------------------------------------------------------------+-------+--------------------------------------+---------+----------+-------------+-------------------------------------------------------------------------------------------------------------------------------------------------------------------------------------------------------------------------------------------------------------------------------------------------------------------------------------------------------------------------------------------------------------------------------------------------------------------------------------------------------------------------------------------------------------------------------------------------------------------------------------------------------------------------+------------------+------------------+--------------------+-----------------+--------------------------------------------------------------------------------------------------+-----------------------------------------------------------------------------------------------------+------------------+-------------------+-------------------------+------------------+--------------------+----------------------+----------------------------+----------------------+----------------------------+--------+---------+-----------------+---------------+------------+---------+--------------+--------+----+----------------------+--------------+--------------------------+----------------------------+----------------------+------------------------+----------------------------+----------------------+----------------------+----------------------+----------------+-----------------+-------------------------------+---------------+---------------+----------------+---------------------+---------------------+---------------------+----------------------+---------------------------------+----------------+--------------------+----------------------+-------------------------------+---------------------+---------------------------+----------------------+-------------------+------------------+----------------+------------------------------+-------------------------------------------+--------------------------------------------+-------------------------------------------+-----------------+\n",
            "\n"
          ]
        }
      ]
    },
    {
      "cell_type": "code",
      "source": [
        "# Select reviews from property"
      ],
      "metadata": {
        "id": "zopao4cghH2O"
      },
      "execution_count": null,
      "outputs": []
    },
    {
      "cell_type": "code",
      "source": [
        "spark.sql('''\n",
        "          SELECT\n",
        "            *\n",
        "          FROM reviews\n",
        "          WHERE listing_id = 5456\n",
        "\n",
        "          --WHERE EXTRACT (YEAR FROM date) = 2023\n",
        "          --AND reviewer_name = 'Sneha'\n",
        "\n",
        "        ''').show(10,truncate=False) #)"
      ],
      "metadata": {
        "colab": {
          "base_uri": "https://localhost:8080/"
        },
        "id": "mTdyNkRClH80",
        "outputId": "5d15c4d7-735e-41f6-bd93-535858d508df"
      },
      "execution_count": 18,
      "outputs": [
        {
          "output_type": "stream",
          "name": "stdout",
          "text": [
            "+----------+----+----------+-----------+------------------+--------------------------------------------------------------------------------------------------------------------------------------------------------------------------------------------------------------------------------------------------------------------------------------------------------------------------------------------------------------------------------------------------------------------------------------------------------------------------------------------------------------------------------------------+\n",
            "|listing_id|id  |date      |reviewer_id|reviewer_name     |comments                                                                                                                                                                                                                                                                                                                                                                                                                                                                                                                                    |\n",
            "+----------+----+----------+-----------+------------------+--------------------------------------------------------------------------------------------------------------------------------------------------------------------------------------------------------------------------------------------------------------------------------------------------------------------------------------------------------------------------------------------------------------------------------------------------------------------------------------------------------------------------------------------+\n",
            "|5456      |865 |2009-03-08|5267       |Ellen             |Sylvia is a hostess who is gracious and helpful beyond words! First of all, she wanted to know about our plans and answered all of the questions we had about the city via email before we arrived. She picked us up from the airport and had a handful of maps and magazines about Austin. Her guest house is spotless, adorably decorated, and complete from soap to movies. The neighborhood is charming, and walking distance to cool spots. (We lucked out because her schedule allowed her to show us around the city.) 5 Texas stars!|\n",
            "|5456      |977 |2009-03-19|8102       |Phil              |Highly recommended. Sylvia was extremely helpful and friendly and made our holiday as easy as it could be. The apartment was wonderfully quiet but also only a few minutes' walk to Austin Convention Center.                                                                                                                                                                                                                                                                                                                               |\n",
            "|5456      |1039|2009-03-22|8241       |Galen             |A great place to stay in a great city. Sylvia picked me up at the airport and drove me to Whole Foods so I could buy groceries. She also took me to my first Texas bar-b-que. I saved a ton of money because I didn't have to cab downtown; I could easily walk. The apartment is clean and the bed very comfortable. This place is a lot better than a hotel.                                                                                                                                                                              |\n",
            "|5456      |1347|2009-04-08|11152      |April             |Highly recommended!                                                                                                                                                                                                                                                                                                                                                                                                                                                                                                                         |\n",
            "|5456      |1491|2009-04-13|12400      |Ivonne            |What a great little apartment!  It was clean, in a good location and had everything I needed.  It was nice not having to spend money on eating out so much b/c there's a refrigerator, microwave, coffeemaker and toaster.  Sylvia was extremely kind and very generous - offering to pick us up from the airport.  I really enjoyed my stay and recommend Sylvia's place highly!                                                                                                                                                           |\n",
            "|5456      |1535|2009-04-16|11071      |Egan.Sturges.Regan|\"Sylvia was great; \"\"ditto\"\" to all the previous review. She is gracious and generous                                                                                                                                                                                                                                                                                                                                                                                                                                                       |\n",
            "|5456      |1663|2009-04-20|11134      |Lizzie            |Sylvia and her cute apartment we absolutely wonderful!  She was the perfect host -accommodating and helpful without being the least bit intrusive.   The place was cozy and clean and the perfect size for two of us with room to spare.  The location was perfect, accessible to downtown on foot (we also rented bikes and could get everywhere we wanted easily).  We'll definitely come back, and recommend the place to anyone!                                                                                                        |\n",
            "|5456      |1785|2009-04-26|10844      |Kristen           |Sylvia is the best! Her guest house was charming, clean, comfortable, and conveniently located. We loved her animals and her big heart. This lady loves Austin and wants others to experience it to the utmost. Silvia picked us up at the airport, showed us around the city a bit,  and accomodated us beyond the normal scope of hostess. I've already recommended her place to several of my friends. Hopefully, I too will be able to visit Austin and Sylvia again!                                                                   |\n",
            "|5456      |2287|2009-05-11|15341      |Chris             |Sylvia is great person and great host. She picked my girlfriend and me up at the airport, showed us around Austin, told us about good places to hang out, and even let us ride along with her to San Antonio for a day trip. She went above and beyond the call of duty to make our long weekend in Austin very enjoyable.                                                                                                                                                                                                                  |\n",
            "|5456      |2855|2009-05-19|16288      |Jane              |She's a special woman and our stay was wonderful because of her.  She was our friend from the moment we met her.                                                                                                                                                                                                                                                                                                                                                                                                                            |\n",
            "+----------+----+----------+-----------+------------------+--------------------------------------------------------------------------------------------------------------------------------------------------------------------------------------------------------------------------------------------------------------------------------------------------------------------------------------------------------------------------------------------------------------------------------------------------------------------------------------------------------------------------------------------+\n",
            "only showing top 10 rows\n",
            "\n"
          ]
        }
      ]
    },
    {
      "cell_type": "code",
      "source": [
        "#Create new dataset just w/ properties with review:\n",
        "\n",
        "houses_w_review = spark.sql('''\n",
        "          SELECT\n",
        "            *\n",
        "          FROM houses h\n",
        "          WHERE h.id IN (SELECT listing_id FROM reviews)\n",
        "\n",
        "        ''')\n",
        "\n",
        "houses_w_review.show(5)"
      ],
      "metadata": {
        "colab": {
          "base_uri": "https://localhost:8080/"
        },
        "id": "BvnzhU3VhYkQ",
        "outputId": "db1cc666-d68d-4e1f-b340-8256b09500f8"
      },
      "execution_count": 20,
      "outputs": [
        {
          "output_type": "stream",
          "name": "stdout",
          "text": [
            "+--------+--------------------+--------------+------------+---------------+--------------------+--------------------+---------------------+--------------------+--------+--------------------+-----------+----------+-------------+--------------------+------------------+------------------+--------------------+-----------------+--------------------+--------------------+------------------+-------------------+-------------------------+--------------------+--------------------+----------------------+--------------------+----------------------+----------------------------+--------+---------+-------------+---------------+------------+---------+--------------+--------+----+--------------------+----------------+--------------------+--------------------+----------------------+----------------------+----------------------+----------------------+----------------------+----------------------+----------------+--------------------+--------------------+---------------+--------------------+--------------------+---------------------+--------------------+---------------------+----------------------+--------------------+--------------------+--------------------+----------------------+-------------------------+---------------------+---------------------------+----------------------+-------------------+--------------------+--------------------+------------------------------+-------------------------------------------+--------------------------------------------+-------------------------------------------+-----------------+\n",
            "|      id|         listing_url|     scrape_id|last_scraped|         source|                name|         description|neighborhood_overview|         picture_url| host_id|            host_url|  host_name|host_since|host_location|          host_about|host_response_time|host_response_rate|host_acceptance_rate|host_is_superhost|  host_thumbnail_url|    host_picture_url|host_neighbourhood|host_listings_count|host_total_listings_count|  host_verifications|host_has_profile_pic|host_identity_verified|       neighbourhood|neighbourhood_cleansed|neighbourhood_group_cleansed|latitude|longitude|property_type|      room_type|accommodates|bathrooms|bathrooms_text|bedrooms|beds|           amenities|           price|      minimum_nights|      maximum_nights|minimum_minimum_nights|maximum_minimum_nights|minimum_maximum_nights|maximum_maximum_nights|minimum_nights_avg_ntm|maximum_nights_avg_ntm|calendar_updated|    has_availability|     availability_30|availability_60|     availability_90|    availability_365|calendar_last_scraped|   number_of_reviews|number_of_reviews_ltm|number_of_reviews_l30d|        first_review|         last_review|review_scores_rating|review_scores_accuracy|review_scores_cleanliness|review_scores_checkin|review_scores_communication|review_scores_location|review_scores_value|             license|    instant_bookable|calculated_host_listings_count|calculated_host_listings_count_entire_homes|calculated_host_listings_count_private_rooms|calculated_host_listings_count_shared_rooms|reviews_per_month|\n",
            "+--------+--------------------+--------------+------------+---------------+--------------------+--------------------+---------------------+--------------------+--------+--------------------+-----------+----------+-------------+--------------------+------------------+------------------+--------------------+-----------------+--------------------+--------------------+------------------+-------------------+-------------------------+--------------------+--------------------+----------------------+--------------------+----------------------+----------------------------+--------+---------+-------------+---------------+------------+---------+--------------+--------+----+--------------------+----------------+--------------------+--------------------+----------------------+----------------------+----------------------+----------------------+----------------------+----------------------+----------------+--------------------+--------------------+---------------+--------------------+--------------------+---------------------+--------------------+---------------------+----------------------+--------------------+--------------------+--------------------+----------------------+-------------------------+---------------------+---------------------------+----------------------+-------------------+--------------------+--------------------+------------------------------+-------------------------------------------+--------------------------------------------+-------------------------------------------+-----------------+\n",
            "|17239710|https://www.airbn...|20230910055936|  2023-09-11|previous scrape|Tiny home in Aust...|Welcome to a worl...| The tiny home is ...|https://a0.muscac...|79832997|https://www.airbn...|       Joel|2016-06-25|   Austin, TX|Designer, Artist,...|              null|              null|                null|             null|                null|                null|              null|               null|                     null|                null|                null|                  null|                null|                  null|                        null|    null|     null|         null|           null|        null|     null|          null|    null|null|                null|            null|                null|                null|                  null|                  null|                  null|                  null|                  null|                  null|            null|                null|                null|           null|                null|                null|                 null|                null|                 null|                  null|                null|                null|                null|                  null|                     null|                 null|                       null|                  null|               null|                null|                null|                          null|                                       null|                                        null|                                       null|             null|\n",
            "|18227140|https://www.airbn...|20230910055936|  2023-09-10|    city scrape|Home in Austin · ...|There is a 27 fee...| I chose this hous...|https://a0.muscac...|80881292|https://www.airbn...|       Alan|2016-06-30|     Kyle, TX|I have lived in t...|    within an hour|              100%|                100%|                t|https://a0.muscac...|https://a0.muscac...|        Montopolis|                  2|                        3|  ['email', 'phone']|                   t|                     t|Austin, Texas, Un...|                 78741|                        null| 30.2205|-97.70055|  Entire home|Entire home/apt|          12|     null|     2.5 baths|       4|   7|\"[\"\"Air condition...| \"\"Conditioner\"\"|       \"\"Hot water\"\"| \"\"TV with standa...|        \"\"Pool table\"\"|   \"\"Dishes and sil...|   \"\"Luggage dropof...|      \"\"Wine glasses\"\"|   \"\"Ethernet conne...|        \"\"Hair dryer\"\"|  \"\"Smart lock\"\"| \"\"Free street pa...| \"\"Clothing stora...|         closet|       and dresser\"\"|      \"\"Dishwasher\"\"|  \"\"Long term stay...| \"\"Hot water kett...|       \"\"Essentials\"\"|        \"\"EV charger\"\"|          \"\"Coffee\"\"|       \"\"Microwave\"\"|         \"\"Kitchen\"\"|   \"\"Private patio ...|      \"\"Private backya...|             \"\"Oven\"\"|             \"\"Bed linens\"\"|            \"\"Washer\"\"|   \"\"Coffee maker\"\"|    \"\"Baking sheet\"\"| \"\"Private hot tub\"\"|                 \"\"Body soap\"\"|                        \"\"2 full size re...|                             \"\"Board games\"\"|                                  \"\"Piano\"\"| \"\"Pets allowed\"\"|\n",
            "|20932451|https://www.airbn...|20230910055936|  2023-09-10|    city scrape|Home in Austin · ...|\"Newly remodeled,...| Just an eight-min...|https://a0.muscac...|26917810|https://www.airbn...|        Tom|2015-01-29|   Austin, TX|As a traveler mys...|    within an hour|              100%|                100%|                t|https://a0.muscac...|https://a0.muscac...|     East Downtown|                  1|                        1|['email', 'phone'...|                   t|                     t|Austin, Texas, Un...|                 78702|                        null|30.25544|-97.73423|  Entire home|Entire home/apt|          16|     null|       2 baths|       5|   7|\"[\"\"Air condition...|        \"\"Crib\"\"|       \"\"Hot water\"\"| \"\"TV with standa...|   \"\"Pack \\u2019n p...|   \"\"American Crew ...|   \"\"Dishes and sil...|   \"\"Luggage dropof...|      \"\"Wine glasses\"\"|   \"\"Ethernet conne...|  \"\"Hair dryer\"\"|         \"\"Freezer\"\"| \"\"Beach essentia...| \"\"Smart lock\"\"| \"\"Free street pa...| \"\"Clothing stora...|               closet|       and dresser\"\"|       \"\"Dishwasher\"\"|   \"\"Long term stay...| \"\"Books and read...| \"\"Hot water kett...|      \"\"Essentials\"\"|   \"\"Exercise equip...|            \"\"Microwave\"\"|          \"\"Kitchen\"\"|                 \"\"Coffee\"\"|   \"\"Private patio ...|           \"\"Oven\"\"|    \"\"Baby monitor\"\"|   \"\"Outlet covers\"\"|           \"\"Room-darkening...|                        \"\"Baby safety ga...|                              \"\"Bed linens\"\"|                                 \"\"Washer\"\"| \"\"Coffee maker\"\"|\n",
            "|21098269|https://www.airbn...|20230910055936|  2023-09-10|previous scrape|Loft in Austin · ...|Enjoy nearly 800 ...| EAST Downtown is ...|https://a0.muscac...| 3868276|https://www.airbn...|    Randall|2012-10-14|   Austin, TX|Eastside Austin T...|               N/A|               N/A|                 N/A|                f|https://a0.muscac...|https://a0.muscac...|             Holly|                  1|                        1|  ['email', 'phone']|                   t|                     f|Austin, Texas, Un...|                 78702|                        null|30.26014| -97.7154|  Entire loft|Entire home/apt|           2|     null|        1 bath|       2|   1|\"[\"\"Air condition...|   \"\"Hot water\"\"| \"\"Dishes and sil...| \"\"Luggage dropof...|        \"\"Hair dryer\"\"|   \"\"Free street pa...|        \"\"Dishwasher\"\"|   \"\"Long term stay...|        \"\"Essentials\"\"|         \"\"Microwave\"\"|     \"\"Kitchen\"\"|            \"\"Oven\"\"|    \"\"Coffee maker\"\"|     \"\"Washer\"\"|         \"\"Hangers\"\"|    \"\"Refrigerator\"\"|  \"\"Fire extinguis...|         \"\"Lockbox\"\"|      \"\"Smoke alarm\"\"|   \"\"Patio or balco...|         \"\"Heating\"\"|           \"\"Dryer\"\"| \"\"Carbon monoxid...|              \"\"Wifi\"\"|                \"\"Stove\"\"|         \"\"Backyard\"\"|                \"\"Shampoo\"\"|     \"\"Self check-in\"\"|      \"\"BBQ grill\"\"| \"\"Free parking o...|  \"\"Cooking basics\"\"|                    \"\"Iron\"\"]\"|                                    $113.00|                                           3|                                       1125|                2|\n",
            "| 2322667|https://www.airbn...|20230910055936|  2023-09-10|    city scrape|Home in Austin · ...|Located in Southw...| The neighborhood ...|https://a0.muscac...|11863622|https://www.airbn...|Jon + Laura|2014-02-02|   Austin, TX|We are avid trave...|              null|              null|                null|             null|                null|                null|              null|               null|                     null|                null|                null|                  null|                null|                  null|                        null|    null|     null|         null|           null|        null|     null|          null|    null|null|                null|            null|                null|                null|                  null|                  null|                  null|                  null|                  null|                  null|            null|                null|                null|           null|                null|                null|                 null|                null|                 null|                  null|                null|                null|                null|                  null|                     null|                 null|                       null|                  null|               null|                null|                null|                          null|                                       null|                                        null|                                       null|             null|\n",
            "+--------+--------------------+--------------+------------+---------------+--------------------+--------------------+---------------------+--------------------+--------+--------------------+-----------+----------+-------------+--------------------+------------------+------------------+--------------------+-----------------+--------------------+--------------------+------------------+-------------------+-------------------------+--------------------+--------------------+----------------------+--------------------+----------------------+----------------------------+--------+---------+-------------+---------------+------------+---------+--------------+--------+----+--------------------+----------------+--------------------+--------------------+----------------------+----------------------+----------------------+----------------------+----------------------+----------------------+----------------+--------------------+--------------------+---------------+--------------------+--------------------+---------------------+--------------------+---------------------+----------------------+--------------------+--------------------+--------------------+----------------------+-------------------------+---------------------+---------------------------+----------------------+-------------------+--------------------+--------------------+------------------------------+-------------------------------------------+--------------------------------------------+-------------------------------------------+-----------------+\n",
            "only showing top 5 rows\n",
            "\n"
          ]
        }
      ]
    },
    {
      "cell_type": "code",
      "source": [
        "#total number of houses = 14861\n",
        "#total number of houses w/ review = 11758"
      ],
      "metadata": {
        "id": "7Rm8_pZfX4GY"
      },
      "execution_count": 21,
      "outputs": []
    },
    {
      "cell_type": "code",
      "source": [
        "#create view from dataset\n",
        "houses_w_review.createOrReplaceTempView(\"houses_w_reviews\")"
      ],
      "metadata": {
        "id": "qlMQg2h_YfwU"
      },
      "execution_count": 22,
      "outputs": []
    },
    {
      "cell_type": "code",
      "source": [
        "#select from dataset created\n",
        "spark.sql('''\n",
        "          SELECT\n",
        "           *\n",
        "          FROM houses_w_reviews\n",
        "        ''').show(10) #,truncate=False)"
      ],
      "metadata": {
        "colab": {
          "base_uri": "https://localhost:8080/"
        },
        "id": "80USTKDsZRBu",
        "outputId": "b27d3227-84bf-4ebf-917a-7c6774bc4137"
      },
      "execution_count": 23,
      "outputs": [
        {
          "output_type": "stream",
          "name": "stdout",
          "text": [
            "+--------+--------------------+--------------+------------+---------------+--------------------+--------------------+---------------------+--------------------+---------+--------------------+-----------+----------+--------------------+--------------------+------------------+------------------+--------------------+-----------------+--------------------+--------------------+------------------+-------------------+-------------------------+--------------------+--------------------+----------------------+--------------------+----------------------+----------------------------+--------+---------+--------------------+---------------+------------+---------+----------------+--------+----+--------------------+--------------------+--------------------+--------------------+----------------------+----------------------+----------------------+----------------------+----------------------+----------------------+------------------+--------------------+--------------------+-----------------+--------------------+--------------------+---------------------+--------------------+---------------------+----------------------+--------------------+--------------------+--------------------+----------------------+-------------------------+---------------------+---------------------------+----------------------+-------------------+--------------------+--------------------+------------------------------+-------------------------------------------+--------------------------------------------+-------------------------------------------+-----------------+\n",
            "|      id|         listing_url|     scrape_id|last_scraped|         source|                name|         description|neighborhood_overview|         picture_url|  host_id|            host_url|  host_name|host_since|       host_location|          host_about|host_response_time|host_response_rate|host_acceptance_rate|host_is_superhost|  host_thumbnail_url|    host_picture_url|host_neighbourhood|host_listings_count|host_total_listings_count|  host_verifications|host_has_profile_pic|host_identity_verified|       neighbourhood|neighbourhood_cleansed|neighbourhood_group_cleansed|latitude|longitude|       property_type|      room_type|accommodates|bathrooms|  bathrooms_text|bedrooms|beds|           amenities|               price|      minimum_nights|      maximum_nights|minimum_minimum_nights|maximum_minimum_nights|minimum_maximum_nights|maximum_maximum_nights|minimum_nights_avg_ntm|maximum_nights_avg_ntm|  calendar_updated|    has_availability|     availability_30|  availability_60|     availability_90|    availability_365|calendar_last_scraped|   number_of_reviews|number_of_reviews_ltm|number_of_reviews_l30d|        first_review|         last_review|review_scores_rating|review_scores_accuracy|review_scores_cleanliness|review_scores_checkin|review_scores_communication|review_scores_location|review_scores_value|             license|    instant_bookable|calculated_host_listings_count|calculated_host_listings_count_entire_homes|calculated_host_listings_count_private_rooms|calculated_host_listings_count_shared_rooms|reviews_per_month|\n",
            "+--------+--------------------+--------------+------------+---------------+--------------------+--------------------+---------------------+--------------------+---------+--------------------+-----------+----------+--------------------+--------------------+------------------+------------------+--------------------+-----------------+--------------------+--------------------+------------------+-------------------+-------------------------+--------------------+--------------------+----------------------+--------------------+----------------------+----------------------------+--------+---------+--------------------+---------------+------------+---------+----------------+--------+----+--------------------+--------------------+--------------------+--------------------+----------------------+----------------------+----------------------+----------------------+----------------------+----------------------+------------------+--------------------+--------------------+-----------------+--------------------+--------------------+---------------------+--------------------+---------------------+----------------------+--------------------+--------------------+--------------------+----------------------+-------------------------+---------------------+---------------------------+----------------------+-------------------+--------------------+--------------------+------------------------------+-------------------------------------------+--------------------------------------------+-------------------------------------------+-----------------+\n",
            "|17239710|https://www.airbn...|20230910055936|  2023-09-11|previous scrape|Tiny home in Aust...|Welcome to a worl...| The tiny home is ...|https://a0.muscac...| 79832997|https://www.airbn...|       Joel|2016-06-25|          Austin, TX|Designer, Artist,...|              null|              null|                null|             null|                null|                null|              null|               null|                     null|                null|                null|                  null|                null|                  null|                        null|    null|     null|                null|           null|        null|     null|            null|    null|null|                null|                null|                null|                null|                  null|                  null|                  null|                  null|                  null|                  null|              null|                null|                null|             null|                null|                null|                 null|                null|                 null|                  null|                null|                null|                null|                  null|                     null|                 null|                       null|                  null|               null|                null|                null|                          null|                                       null|                                        null|                                       null|             null|\n",
            "|18227140|https://www.airbn...|20230910055936|  2023-09-10|    city scrape|Home in Austin · ...|There is a 27 fee...| I chose this hous...|https://a0.muscac...| 80881292|https://www.airbn...|       Alan|2016-06-30|            Kyle, TX|I have lived in t...|    within an hour|              100%|                100%|                t|https://a0.muscac...|https://a0.muscac...|        Montopolis|                  2|                        3|  ['email', 'phone']|                   t|                     t|Austin, Texas, Un...|                 78741|                        null| 30.2205|-97.70055|         Entire home|Entire home/apt|          12|     null|       2.5 baths|       4|   7|\"[\"\"Air condition...|     \"\"Conditioner\"\"|       \"\"Hot water\"\"| \"\"TV with standa...|        \"\"Pool table\"\"|   \"\"Dishes and sil...|   \"\"Luggage dropof...|      \"\"Wine glasses\"\"|   \"\"Ethernet conne...|        \"\"Hair dryer\"\"|    \"\"Smart lock\"\"| \"\"Free street pa...| \"\"Clothing stora...|           closet|       and dresser\"\"|      \"\"Dishwasher\"\"|  \"\"Long term stay...| \"\"Hot water kett...|       \"\"Essentials\"\"|        \"\"EV charger\"\"|          \"\"Coffee\"\"|       \"\"Microwave\"\"|         \"\"Kitchen\"\"|   \"\"Private patio ...|      \"\"Private backya...|             \"\"Oven\"\"|             \"\"Bed linens\"\"|            \"\"Washer\"\"|   \"\"Coffee maker\"\"|    \"\"Baking sheet\"\"| \"\"Private hot tub\"\"|                 \"\"Body soap\"\"|                        \"\"2 full size re...|                             \"\"Board games\"\"|                                  \"\"Piano\"\"| \"\"Pets allowed\"\"|\n",
            "|20932451|https://www.airbn...|20230910055936|  2023-09-10|    city scrape|Home in Austin · ...|\"Newly remodeled,...| Just an eight-min...|https://a0.muscac...| 26917810|https://www.airbn...|        Tom|2015-01-29|          Austin, TX|As a traveler mys...|    within an hour|              100%|                100%|                t|https://a0.muscac...|https://a0.muscac...|     East Downtown|                  1|                        1|['email', 'phone'...|                   t|                     t|Austin, Texas, Un...|                 78702|                        null|30.25544|-97.73423|         Entire home|Entire home/apt|          16|     null|         2 baths|       5|   7|\"[\"\"Air condition...|            \"\"Crib\"\"|       \"\"Hot water\"\"| \"\"TV with standa...|   \"\"Pack \\u2019n p...|   \"\"American Crew ...|   \"\"Dishes and sil...|   \"\"Luggage dropof...|      \"\"Wine glasses\"\"|   \"\"Ethernet conne...|    \"\"Hair dryer\"\"|         \"\"Freezer\"\"| \"\"Beach essentia...|   \"\"Smart lock\"\"| \"\"Free street pa...| \"\"Clothing stora...|               closet|       and dresser\"\"|       \"\"Dishwasher\"\"|   \"\"Long term stay...| \"\"Books and read...| \"\"Hot water kett...|      \"\"Essentials\"\"|   \"\"Exercise equip...|            \"\"Microwave\"\"|          \"\"Kitchen\"\"|                 \"\"Coffee\"\"|   \"\"Private patio ...|           \"\"Oven\"\"|    \"\"Baby monitor\"\"|   \"\"Outlet covers\"\"|           \"\"Room-darkening...|                        \"\"Baby safety ga...|                              \"\"Bed linens\"\"|                                 \"\"Washer\"\"| \"\"Coffee maker\"\"|\n",
            "|21098269|https://www.airbn...|20230910055936|  2023-09-10|previous scrape|Loft in Austin · ...|Enjoy nearly 800 ...| EAST Downtown is ...|https://a0.muscac...|  3868276|https://www.airbn...|    Randall|2012-10-14|          Austin, TX|Eastside Austin T...|               N/A|               N/A|                 N/A|                f|https://a0.muscac...|https://a0.muscac...|             Holly|                  1|                        1|  ['email', 'phone']|                   t|                     f|Austin, Texas, Un...|                 78702|                        null|30.26014| -97.7154|         Entire loft|Entire home/apt|           2|     null|          1 bath|       2|   1|\"[\"\"Air condition...|       \"\"Hot water\"\"| \"\"Dishes and sil...| \"\"Luggage dropof...|        \"\"Hair dryer\"\"|   \"\"Free street pa...|        \"\"Dishwasher\"\"|   \"\"Long term stay...|        \"\"Essentials\"\"|         \"\"Microwave\"\"|       \"\"Kitchen\"\"|            \"\"Oven\"\"|    \"\"Coffee maker\"\"|       \"\"Washer\"\"|         \"\"Hangers\"\"|    \"\"Refrigerator\"\"|  \"\"Fire extinguis...|         \"\"Lockbox\"\"|      \"\"Smoke alarm\"\"|   \"\"Patio or balco...|         \"\"Heating\"\"|           \"\"Dryer\"\"| \"\"Carbon monoxid...|              \"\"Wifi\"\"|                \"\"Stove\"\"|         \"\"Backyard\"\"|                \"\"Shampoo\"\"|     \"\"Self check-in\"\"|      \"\"BBQ grill\"\"| \"\"Free parking o...|  \"\"Cooking basics\"\"|                    \"\"Iron\"\"]\"|                                    $113.00|                                           3|                                       1125|                2|\n",
            "| 2322667|https://www.airbn...|20230910055936|  2023-09-10|    city scrape|Home in Austin · ...|Located in Southw...| The neighborhood ...|https://a0.muscac...| 11863622|https://www.airbn...|Jon + Laura|2014-02-02|          Austin, TX|We are avid trave...|              null|              null|                null|             null|                null|                null|              null|               null|                     null|                null|                null|                  null|                null|                  null|                        null|    null|     null|                null|           null|        null|     null|            null|    null|null|                null|                null|                null|                null|                  null|                  null|                  null|                  null|                  null|                  null|              null|                null|                null|             null|                null|                null|                 null|                null|                 null|                  null|                null|                null|                null|                  null|                     null|                 null|                       null|                  null|               null|                null|                null|                          null|                                       null|                                        null|                                       null|             null|\n",
            "|28302431|https://www.airbn...|20230910055936|  2023-09-10|    city scrape|Townhouse in Aust...|This is a new tow...| I live in a quiet...|https://a0.muscac...| 56093850|https://www.airbn...|       Clay|2016-01-25|          Austin, TX|                null|               N/A|               N/A|                100%|                f|https://a0.muscac...|https://a0.muscac...| SW Williamson Co.|                  2|                        2|  ['email', 'phone']|                   t|                     t|Austin, Texas, Un...|                 78729|                        null|30.46619|-97.76622|Private room in t...|   Private room|           2|     null|1.5 shared baths|    null|   1|\"[\"\"Air condition...|       \"\"Hot water\"\"| \"\"TV with standa...| \"\"Dishes and sil...|   \"\"Ethernet conne...|        \"\"Hair dryer\"\"|   \"\"Free street pa...|        \"\"Dishwasher\"\"|        \"\"Essentials\"\"|         \"\"Microwave\"\"|       \"\"Kitchen\"\"|            \"\"Oven\"\"|      \"\"Bed linens\"\"|       \"\"Washer\"\"|    \"\"Coffee maker\"\"|       \"\"Breakfast\"\"|          \"\"Hangers\"\"|    \"\"Refrigerator\"\"|  \"\"Security camer...|       \"\"Smoke alarm\"\"|          \"\"Keypad\"\"| \"\"Patio or balco...| \"\"Extra pillows ...|           \"\"Heating\"\"|                \"\"Dryer\"\"|         \"\"Backyard\"\"|                  \"\"Stove\"\"|   \"\"Smoking allowed\"\"|  \"\"Self check-in\"\"| \"\"Free parking o...|  \"\"Cooking basics\"\"|                   \"\"Shampoo\"\"|                        \"\"Fast wifi \\u20...|                                     $124.00|                                          1|               30|\n",
            "|28908735|https://www.airbn...|20230910055936|  2023-09-10|    city scrape|Home in Austin · ...|The house is colo...| Southpark Meadows...|https://a0.muscac...|160113451|https://www.airbn...|     Andrew|2017-11-25|          Austin, TX|I enjoy a good mo...|    within an hour|              100%|                100%|                t|https://a0.muscac...|https://a0.muscac...|              null|                  3|                        3|['email', 'phone'...|                   t|                     t|Austin, Texas, Un...|                 78747|                        null|30.14267|-97.76409|Private room in home|   Private room|           2|     null|1.5 shared baths|    null|   1|\"[\"\"Lock on bedro...|       \"\"Hot water\"\"| \"\"Dishes and sil...|      \"\"Hair dryer\"\"|        \"\"Essentials\"\"|           \"\"Kitchen\"\"|       \"\"Shared pool\"\"|      \"\"Coffee maker\"\"|            \"\"Washer\"\"|   \"\"Outdoor dining...|       \"\"Hangers\"\"| \"\"Outdoor furnit...|   \"\"First aid kit\"\"| \"\"Refrigerator\"\"| \"\"Fire extinguis...|     \"\"Smoke alarm\"\"|          \"\"Heating\"\"|           \"\"Dryer\"\"|  \"\"60\\\"\" HDTV wit...|    Amazon Prime Video|        Chromecast\"\"| \"\"Central air co...| \"\"Carbon monoxid...|              \"\"Wifi\"\"|              \"\"Shampoo\"\"|         \"\"Backyard\"\"|        \"\"Shared patio o...|         \"\"BBQ grill\"\"|         \"\"Iron\"\"]\"|              $32.00|                  30|                          1125|                                         30|                                          30|                                       1125|             1125|\n",
            "|29511390|https://www.airbn...|20230910055936|  2023-09-10|    city scrape|Townhouse in Aust...|PLEASE NOTE THIS ...| My home is in a v...|https://a0.muscac...|195478867|https://www.airbn...|      Casey|2018-06-13|Palos Verdes Esta...|I am in Airbnb ho...|    within an hour|              100%|                100%|                f|https://a0.muscac...|https://a0.muscac...|         Brentwood|                 14|                       14|  ['email', 'phone']|                   t|                     t|Austin, Texas, Un...|                 78746|                        null|30.26164|-97.79839|    Entire townhouse|Entire home/apt|           8|     null|       3.5 baths|       3|   5|\"[\"\"Air condition...|      \"\"Smart lock\"\"|      \"\"Hair dryer\"\"| \"\"Free street pa...|         \"\"Microwave\"\"|           \"\"Kitchen\"\"|      \"\"Coffee maker\"\"|            \"\"Washer\"\"|   \"\"Private entran...|           \"\"Hangers\"\"| \"\"First aid kit\"\"|    \"\"Refrigerator\"\"| \"\"Fire extinguis...|  \"\"Smoke alarm\"\"|              \"\"TV\"\"| \"\"Indoor firepla...|          \"\"Heating\"\"|           \"\"Dryer\"\"|  \"\"Carbon monoxid...|              \"\"Wifi\"\"|         \"\"Shampoo\"\"|   \"\"Self check-in\"\"| \"\"Free parking o...|    \"\"Cooking basics\"\"|               \"\"Iron\"\"]\"|              $130.00|                         30|                  1125|                 30|                  30|                1125|                          1125|                                       30.0|                                      1125.0|                                       null|                t|\n",
            "|29928316|https://www.airbn...|20230910055936|  2023-09-11|previous scrape|Townhouse in Aust...|Welcome to our be...| From multiple fam...|https://a0.muscac...|118890276|https://www.airbn...|         Dj|2017-03-02|          Mobile, AL|                null|               N/A|               N/A|                100%|                f|https://a0.muscac...|https://a0.muscac...|              null|                  1|                        2|['email', 'phone'...|                   t|                     t|Austin, Texas, Un...|                 78723|                        null|30.29853|-97.69787|    Entire townhouse|Entire home/apt|           4|     null|         3 baths|       3|   3|     \"[\"\"Hot water\"\"| \"\"Dishes and sil...|         \"\"Freezer\"\"| \"\"Free street pa...|        \"\"Dishwasher\"\"|   \"\"Crib - always ...|        \"\"Essentials\"\"|         \"\"Microwave\"\"|           \"\"Kitchen\"\"|   \"\"Children\\u2019...|          \"\"Oven\"\"|    \"\"Baby monitor\"\"|   \"\"Outlet covers\"\"| \"\"Coffee maker\"\"|     \"\"Free washer\"\"| \"\"Private entran...|          \"\"Hangers\"\"| \"\"47\\\"\" HDTV wit...|          \"\"Toaster\"\"|      \"\"Refrigerator\"\"|      \"\"High chair\"\"|     \"\"Smoke alarm\"\"|      \"\"Free dryer\"\"|           \"\"Heating\"\"|      \"\"Central air co...|  \"\"Carbon monoxid...|            \"\"Ceiling fan\"\"|   \"\"Children\\u2019...|           \"\"Wifi\"\"|         \"\"Shampoo\"\"|           \"\"Stove\"\"|              \"\"Dining table\"\"|                         \"\"Changing table\"\"|                         \"\"Free parking o...|                         \"\"Cooking basics\"\"|       \"\"Iron\"\"]\"|\n",
            "| 3163510|https://www.airbn...|20230910055936|  2023-09-10|    city scrape|Rental unit in Au...|*Thoroughly disin...| The location of t...|https://a0.muscac...| 16047277|https://www.airbn...|   Mireille|2014-05-27|          Austin, TX|I am French Canad...|              null|              null|                null|             null|                null|                null|              null|               null|                     null|                null|                null|                  null|                null|                  null|                        null|    null|     null|                null|           null|        null|     null|            null|    null|null|                null|                null|                null|                null|                  null|                  null|                  null|                  null|                  null|                  null|              null|                null|                null|             null|                null|                null|                 null|                null|                 null|                  null|                null|                null|                null|                  null|                     null|                 null|                       null|                  null|               null|                null|                null|                          null|                                       null|                                        null|                                       null|             null|\n",
            "+--------+--------------------+--------------+------------+---------------+--------------------+--------------------+---------------------+--------------------+---------+--------------------+-----------+----------+--------------------+--------------------+------------------+------------------+--------------------+-----------------+--------------------+--------------------+------------------+-------------------+-------------------------+--------------------+--------------------+----------------------+--------------------+----------------------+----------------------------+--------+---------+--------------------+---------------+------------+---------+----------------+--------+----+--------------------+--------------------+--------------------+--------------------+----------------------+----------------------+----------------------+----------------------+----------------------+----------------------+------------------+--------------------+--------------------+-----------------+--------------------+--------------------+---------------------+--------------------+---------------------+----------------------+--------------------+--------------------+--------------------+----------------------+-------------------------+---------------------+---------------------------+----------------------+-------------------+--------------------+--------------------+------------------------------+-------------------------------------------+--------------------------------------------+-------------------------------------------+-----------------+\n",
            "only showing top 10 rows\n",
            "\n"
          ]
        }
      ]
    },
    {
      "cell_type": "markdown",
      "source": [
        "## 2 Identify customers who were detractors in some evaluation"
      ],
      "metadata": {
        "id": "fdaafI45ddTL"
      }
    },
    {
      "cell_type": "code",
      "source": [
        "#objective: identify from comments, which customers were detractors in some review"
      ],
      "metadata": {
        "id": "hPBBL7oLvdYG"
      },
      "execution_count": null,
      "outputs": []
    },
    {
      "cell_type": "code",
      "source": [
        "#extract evaluation from column name, and create new view with column evaluation:\n",
        "houses_w_ratings = spark.sql('''\n",
        "          SELECT\n",
        "              id,\n",
        "              name,\n",
        "              regexp_extract(name, '★([0-9]*\\.[0-9]+)', 1) AS evaluation,\n",
        "              host_location,\n",
        "              latitude,\n",
        "              longitude,\n",
        "              property_type,\n",
        "              accommodates\n",
        "          FROM\n",
        "              houses_w_reviews\n",
        "          WHERE\n",
        "              name LIKE \"%★%\"\n",
        "        ''')\n",
        "\n",
        "#create view from dataset\n",
        "houses_w_ratings.createOrReplaceTempView(\"houses_w_ratings\")"
      ],
      "metadata": {
        "id": "IDwJRhrx8RNR"
      },
      "execution_count": 25,
      "outputs": []
    },
    {
      "cell_type": "code",
      "source": [
        "#houses_w_ratings view:\n",
        "spark.sql('''\n",
        "          SELECT\n",
        "             *\n",
        "          FROM houses_w_ratings\n",
        "        ''').show(10) #,truncate=False)"
      ],
      "metadata": {
        "colab": {
          "base_uri": "https://localhost:8080/"
        },
        "id": "0RwfmnF38RIz",
        "outputId": "12b1a77c-eca8-4206-9fdd-e9d45c9dce34"
      },
      "execution_count": 26,
      "outputs": [
        {
          "output_type": "stream",
          "name": "stdout",
          "text": [
            "+--------+--------------------+----------+--------------------+--------+---------+--------------------+------------+\n",
            "|      id|                name|evaluation|       host_location|latitude|longitude|       property_type|accommodates|\n",
            "+--------+--------------------+----------+--------------------+--------+---------+--------------------+------------+\n",
            "|17239710|Tiny home in Aust...|      4.95|          Austin, TX|    null|     null|                null|        null|\n",
            "|18227140|Home in Austin · ...|      4.95|            Kyle, TX| 30.2205|-97.70055|         Entire home|          12|\n",
            "|20932451|Home in Austin · ...|      4.98|          Austin, TX|30.25544|-97.73423|         Entire home|          16|\n",
            "|21098269|Loft in Austin · ...|      4.95|          Austin, TX|30.26014| -97.7154|         Entire loft|           2|\n",
            "| 2322667|Home in Austin · ...|       5.0|          Austin, TX|    null|     null|                null|        null|\n",
            "|28302431|Townhouse in Aust...|       5.0|          Austin, TX|30.46619|-97.76622|Private room in t...|           2|\n",
            "|28908735|Home in Austin · ...|      4.84|          Austin, TX|30.14267|-97.76409|Private room in home|           2|\n",
            "|29511390|Townhouse in Aust...|      4.86|Palos Verdes Esta...|30.26164|-97.79839|    Entire townhouse|           8|\n",
            "|29928316|Townhouse in Aust...|       5.0|          Mobile, AL|30.29853|-97.69787|    Entire townhouse|           4|\n",
            "| 3163510|Rental unit in Au...|      4.27|          Austin, TX|    null|     null|                null|        null|\n",
            "+--------+--------------------+----------+--------------------+--------+---------+--------------------+------------+\n",
            "only showing top 10 rows\n",
            "\n"
          ]
        }
      ]
    },
    {
      "cell_type": "code",
      "source": [
        "#identify properties with evaluation < 2, to get an example\n",
        "spark.sql('''\n",
        "          SELECT\n",
        "             *\n",
        "          FROM houses_w_ratings\n",
        "          WHERE evaluation < 2 AND evaluation > 0\n",
        "        ''').show(10) #,truncate=False)"
      ],
      "metadata": {
        "colab": {
          "base_uri": "https://localhost:8080/"
        },
        "id": "1iWVuQmtoS2A",
        "outputId": "73c0cc3d-9cee-4bb8-9b05-f1f91a981360"
      },
      "execution_count": 27,
      "outputs": [
        {
          "output_type": "stream",
          "name": "stdout",
          "text": [
            "+------------------+--------------------+----------+-------------+------------------+------------------+--------------------+------------+\n",
            "|                id|                name|evaluation|host_location|          latitude|         longitude|       property_type|accommodates|\n",
            "+------------------+--------------------+----------+-------------+------------------+------------------+--------------------+------------+\n",
            "|844172257191676124|Home in Austin · ...|      1.40|         null|30.390417104953457|-97.68489815675012|Private room in home|           3|\n",
            "+------------------+--------------------+----------+-------------+------------------+------------------+--------------------+------------+\n",
            "\n"
          ]
        }
      ]
    },
    {
      "cell_type": "code",
      "source": [
        "#check property evaluations: id 844172257191676124\n",
        "\n",
        "five_neg_comments = spark.sql('''\n",
        "          SELECT\n",
        "             *\n",
        "          FROM reviews\n",
        "          where listing_id = 844172257191676124\n",
        "        ''')\n",
        "\n",
        "five_neg_comments.show(10, truncate=False) #)"
      ],
      "metadata": {
        "colab": {
          "base_uri": "https://localhost:8080/"
        },
        "id": "10YE3iGcoSzn",
        "outputId": "7d4a88b7-5bad-4500-ec9c-84655a8adca8"
      },
      "execution_count": 28,
      "outputs": [
        {
          "output_type": "stream",
          "name": "stdout",
          "text": [
            "+------------------+------------------+----------+-----------+---------------+-------------------------------------------------------------------------------------------------------------------------------------------------------------------------------------------------------------------------------------------------------------------------------------------------------------------------------------------------------------------------------------------------------------------------------------------------------------------------------------------------------------------------------------------------------------------------------------------------------------------------------------------------------------------------------------------------------------------------------------------------------------------------------------------------------------------------------------+\n",
            "|listing_id        |id                |date      |reviewer_id|reviewer_name  |comments                                                                                                                                                                                                                                                                                                                                                                                                                                                                                                                                                                                                                                                                                                                                                                                                                             |\n",
            "+------------------+------------------+----------+-----------+---------------+-------------------------------------------------------------------------------------------------------------------------------------------------------------------------------------------------------------------------------------------------------------------------------------------------------------------------------------------------------------------------------------------------------------------------------------------------------------------------------------------------------------------------------------------------------------------------------------------------------------------------------------------------------------------------------------------------------------------------------------------------------------------------------------------------------------------------------------+\n",
            "|844172257191676124|845684114608484707|2023-03-12|480852596  |Rodrigo        |TERRIBLE TERRIBLE. I have been using Airbnb for some years now and have NEVER left a bad review. <br/>This is the first person to truly have poor customer service. From taking hours to send the information to get inside (which happened to include incorrect lock codes). The house is very run down. Showers crusty with no towels. Had to wait 2 full hours to get inside the house after he came to see what was going on. He refused to provide any partial refund after all the inconvenience. <br/>An absolute mess. I’d recommend paying an extra $5-10 and just getting a different airbnb within the same area to potentially save you some trouble and headaches. Hope this helped, I tried to be as genuine as possible. <br/>Airbnb support was extremely helpful with this poor situation so I am grateful for them.|\n",
            "|844172257191676124|848906713280120507|2023-03-17|108997021  |Ronald         |not sure how this home was even approved to host on Airbnb to be honest.                                                                                                                                                                                                                                                                                                                                                                                                                                                                                                                                                                                                                                                                                                                                                             |\n",
            "|844172257191676124|849345562457561869|2023-03-17|421863914  |Amarendar Reddy|Could have been better.<br/>We are 3 guests and the very small hardly fits 2 people.                                                                                                                                                                                                                                                                                                                                                                                                                                                                                                                                                                                                                                                                                                                                                 |\n",
            "|844172257191676124|850766310406096171|2023-03-19|51154734   |Sarah          |Starting at the beginning.... didn't receive contact from host until 1pm day of check-in (tried to reach 9am before traveling) host didn't respond to Airbnb's attempts either.  Host did not provide actual check-in instructions until 45 minutes after check-in. Code didn't work but current guests let us in. Bathroom is VERY dirty. Feces dried on toilet, shower knob broken, didn't take shower anyway because it appeared to never be cleaned. Host changed code mid stay without prior notification. Other people staying there said they've had a lot of issues too. Not sure anything was clean but it is bare. Would not rent again. Gross hassle. Airbnb shouldn't allow listings like this.                                                                                                                          |\n",
            "|844172257191676124|860968751399552405|2023-04-02|232002247  |Juan           |Estaba cómodo pero no era lo que presenta en las fotos, el baño estaba sucio y la basura del baño con mal olor en una bolsa                                                                                                                                                                                                                                                                                                                                                                                                                                                                                                                                                                                                                                                                                                          |\n",
            "+------------------+------------------+----------+-----------+---------------+-------------------------------------------------------------------------------------------------------------------------------------------------------------------------------------------------------------------------------------------------------------------------------------------------------------------------------------------------------------------------------------------------------------------------------------------------------------------------------------------------------------------------------------------------------------------------------------------------------------------------------------------------------------------------------------------------------------------------------------------------------------------------------------------------------------------------------------+\n",
            "\n"
          ]
        }
      ]
    },
    {
      "cell_type": "code",
      "source": [
        "#these 5 customers above were detractors.\n",
        "#Run sentiment analysis trying to identify them all, from their comments"
      ],
      "metadata": {
        "id": "_PkDvxs2plR_"
      },
      "execution_count": 29,
      "outputs": []
    },
    {
      "cell_type": "markdown",
      "source": [
        "### Sentiment Analysis"
      ],
      "metadata": {
        "id": "bdh8rJN6pwbg"
      }
    },
    {
      "cell_type": "code",
      "source": [
        "# Define a UDF (User Defined Function) for sentiment analysis\n",
        "\n",
        "def analyze_sentiment(comment):\n",
        "   # Check if comment is not None\n",
        "    if comment is not None:\n",
        "        analysis = TextBlob(comment)\n",
        "        if analysis.sentiment.polarity > 0:\n",
        "            return 'Positive'\n",
        "        elif analysis.sentiment.polarity == 0:\n",
        "            return 'Neutral'\n",
        "        else:\n",
        "            return 'Negative'\n",
        "    else:\n",
        "        return 'N/A'  # You can handle None values as needed"
      ],
      "metadata": {
        "id": "jBWo4VVDqZt2"
      },
      "execution_count": 30,
      "outputs": []
    },
    {
      "cell_type": "code",
      "source": [
        "#test function with first comment:\n",
        "analyze_sentiment(\"TERRIBLE TERRIBLE. I have been using Airbnb for some years now and have NEVER left a bad review. <br/>This is the first person to truly have poor customer service. From taking hours to send the information to get inside (which happened to include incorrect lock codes). The house is very run down. Showers crusty with no towels. Had to wait 2 full hours to get inside the house after he came to see what was going on. He refused to provide any partial refund after all the inconvenience. <br/>An absolute mess. I’d recommend paying an extra $5-10 and just getting a different airbnb within the same area to potentially save you some trouble and headaches. Hope this helped, I tried to be as genuine as possible. <br/>Airbnb support was extremely helpful with this poor situation so I am grateful for them.\")\n"
      ],
      "metadata": {
        "colab": {
          "base_uri": "https://localhost:8080/",
          "height": 35
        },
        "id": "kcrSntOMwNzy",
        "outputId": "d51f2152-6994-4a11-cb06-2d15cf331120"
      },
      "execution_count": 31,
      "outputs": [
        {
          "output_type": "execute_result",
          "data": {
            "text/plain": [
              "'Negative'"
            ],
            "application/vnd.google.colaboratory.intrinsic+json": {
              "type": "string"
            }
          },
          "metadata": {},
          "execution_count": 31
        }
      ]
    },
    {
      "cell_type": "code",
      "source": [
        "#worked\n",
        "\n",
        "#create new column in df_reviews\n",
        "df_reviews.show(3)"
      ],
      "metadata": {
        "colab": {
          "base_uri": "https://localhost:8080/"
        },
        "id": "Go2MPprVyLi5",
        "outputId": "4aba7fde-5d5b-4be3-96aa-c13b570547a7"
      },
      "execution_count": 34,
      "outputs": [
        {
          "output_type": "stream",
          "name": "stdout",
          "text": [
            "+----------+-------+----------+-----------+-------------+--------------------+\n",
            "|listing_id|     id|      date|reviewer_id|reviewer_name|            comments|\n",
            "+----------+-------+----------+-----------+-------------+--------------------+\n",
            "|      5456|    865|2009-03-08|       5267|        Ellen|Sylvia is a hoste...|\n",
            "|    282342| 913203|2012-02-11|     633688|      Claudia|This is a fantast...|\n",
            "|    282342|1064098|2012-03-31|    1613219|        Kerry|Chris and his fam...|\n",
            "+----------+-------+----------+-----------+-------------+--------------------+\n",
            "only showing top 3 rows\n",
            "\n"
          ]
        }
      ]
    },
    {
      "cell_type": "code",
      "source": [
        "#In PySpark, a User Defined Function (UDF) allows you to define a custom function in Python and apply it to columns in a PySpark DataFrame\n",
        "\n",
        "# Register the UDF with Spark\n",
        "sentiment_udf = udf(analyze_sentiment, StringType()) #StringType: specifies the return type of the UDF, was set string to return 'Positive', 'Neutral', or 'Negative'"
      ],
      "metadata": {
        "id": "yZHIV4iNqZr0"
      },
      "execution_count": 35,
      "outputs": []
    },
    {
      "cell_type": "code",
      "source": [
        "#Once the UDF is registered, you can use it with the withColumn method to apply the sentiment analysis function to a specific column in a PySpark DataFrame.\n",
        "df_reviews_w_sentiment = df_reviews.withColumn('sentiment', sentiment_udf(df_reviews['comments']))"
      ],
      "metadata": {
        "id": "AnxjJdsqyLqI"
      },
      "execution_count": 36,
      "outputs": []
    },
    {
      "cell_type": "code",
      "source": [
        "#New dataframe with sentiments:\n",
        "df_reviews_w_sentiment.show(3)"
      ],
      "metadata": {
        "colab": {
          "base_uri": "https://localhost:8080/"
        },
        "id": "Vzbq2blT04v_",
        "outputId": "dd36266c-c105-40c6-9a75-a4eb06c654f8"
      },
      "execution_count": 37,
      "outputs": [
        {
          "output_type": "stream",
          "name": "stdout",
          "text": [
            "+----------+-------+----------+-----------+-------------+--------------------+---------+\n",
            "|listing_id|     id|      date|reviewer_id|reviewer_name|            comments|sentiment|\n",
            "+----------+-------+----------+-----------+-------------+--------------------+---------+\n",
            "|      5456|    865|2009-03-08|       5267|        Ellen|Sylvia is a hoste...| Positive|\n",
            "|    282342| 913203|2012-02-11|     633688|      Claudia|This is a fantast...| Positive|\n",
            "|    282342|1064098|2012-03-31|    1613219|        Kerry|Chris and his fam...| Positive|\n",
            "+----------+-------+----------+-----------+-------------+--------------------+---------+\n",
            "only showing top 3 rows\n",
            "\n"
          ]
        }
      ]
    },
    {
      "cell_type": "code",
      "source": [
        "#Create new view with sentiment:\n",
        "df_reviews_w_sentiment.createOrReplaceTempView(\"reviews_w_sentiments\")"
      ],
      "metadata": {
        "id": "xHNaCM2A3ZAf"
      },
      "execution_count": 38,
      "outputs": []
    },
    {
      "cell_type": "code",
      "source": [
        "#check those 5 negative coments, if were identified as negative:\n",
        "spark.sql('''\n",
        "          SELECT\n",
        "             *\n",
        "          FROM reviews_w_sentiments\n",
        "          where listing_id = 844172257191676124\n",
        "        ''').show(10, truncate=False) #)"
      ],
      "metadata": {
        "colab": {
          "base_uri": "https://localhost:8080/"
        },
        "id": "Mly5Yrfh2_KJ",
        "outputId": "f0a0e7b7-6e08-4ae9-9080-b2685c0204f8"
      },
      "execution_count": 39,
      "outputs": [
        {
          "output_type": "stream",
          "name": "stdout",
          "text": [
            "+------------------+------------------+----------+-----------+---------------+-------------------------------------------------------------------------------------------------------------------------------------------------------------------------------------------------------------------------------------------------------------------------------------------------------------------------------------------------------------------------------------------------------------------------------------------------------------------------------------------------------------------------------------------------------------------------------------------------------------------------------------------------------------------------------------------------------------------------------------------------------------------------------------------------------------------------------------+---------+\n",
            "|listing_id        |id                |date      |reviewer_id|reviewer_name  |comments                                                                                                                                                                                                                                                                                                                                                                                                                                                                                                                                                                                                                                                                                                                                                                                                                             |sentiment|\n",
            "+------------------+------------------+----------+-----------+---------------+-------------------------------------------------------------------------------------------------------------------------------------------------------------------------------------------------------------------------------------------------------------------------------------------------------------------------------------------------------------------------------------------------------------------------------------------------------------------------------------------------------------------------------------------------------------------------------------------------------------------------------------------------------------------------------------------------------------------------------------------------------------------------------------------------------------------------------------+---------+\n",
            "|844172257191676124|845684114608484707|2023-03-12|480852596  |Rodrigo        |TERRIBLE TERRIBLE. I have been using Airbnb for some years now and have NEVER left a bad review. <br/>This is the first person to truly have poor customer service. From taking hours to send the information to get inside (which happened to include incorrect lock codes). The house is very run down. Showers crusty with no towels. Had to wait 2 full hours to get inside the house after he came to see what was going on. He refused to provide any partial refund after all the inconvenience. <br/>An absolute mess. I’d recommend paying an extra $5-10 and just getting a different airbnb within the same area to potentially save you some trouble and headaches. Hope this helped, I tried to be as genuine as possible. <br/>Airbnb support was extremely helpful with this poor situation so I am grateful for them.|Negative |\n",
            "|844172257191676124|848906713280120507|2023-03-17|108997021  |Ronald         |not sure how this home was even approved to host on Airbnb to be honest.                                                                                                                                                                                                                                                                                                                                                                                                                                                                                                                                                                                                                                                                                                                                                             |Positive |\n",
            "|844172257191676124|849345562457561869|2023-03-17|421863914  |Amarendar Reddy|Could have been better.<br/>We are 3 guests and the very small hardly fits 2 people.                                                                                                                                                                                                                                                                                                                                                                                                                                                                                                                                                                                                                                                                                                                                                 |Negative |\n",
            "|844172257191676124|850766310406096171|2023-03-19|51154734   |Sarah          |Starting at the beginning.... didn't receive contact from host until 1pm day of check-in (tried to reach 9am before traveling) host didn't respond to Airbnb's attempts either.  Host did not provide actual check-in instructions until 45 minutes after check-in. Code didn't work but current guests let us in. Bathroom is VERY dirty. Feces dried on toilet, shower knob broken, didn't take shower anyway because it appeared to never be cleaned. Host changed code mid stay without prior notification. Other people staying there said they've had a lot of issues too. Not sure anything was clean but it is bare. Would not rent again. Gross hassle. Airbnb shouldn't allow listings like this.                                                                                                                          |Negative |\n",
            "|844172257191676124|860968751399552405|2023-04-02|232002247  |Juan           |Estaba cómodo pero no era lo que presenta en las fotos, el baño estaba sucio y la basura del baño con mal olor en una bolsa                                                                                                                                                                                                                                                                                                                                                                                                                                                                                                                                                                                                                                                                                                          |Neutral  |\n",
            "+------------------+------------------+----------+-----------+---------------+-------------------------------------------------------------------------------------------------------------------------------------------------------------------------------------------------------------------------------------------------------------------------------------------------------------------------------------------------------------------------------------------------------------------------------------------------------------------------------------------------------------------------------------------------------------------------------------------------------------------------------------------------------------------------------------------------------------------------------------------------------------------------------------------------------------------------------------+---------+\n",
            "\n"
          ]
        }
      ]
    },
    {
      "cell_type": "code",
      "source": [
        "#Interesing stuff:\n",
        "  # Positive: Second was kind of ironic, not mentioning negative words, and was classified as positive\n",
        "  # Neutral: Fifth was neutral, but it's Spanish\n",
        "  # Negative: 3 others"
      ],
      "metadata": {
        "id": "R3wvgyUp2_IC"
      },
      "execution_count": null,
      "outputs": []
    },
    {
      "cell_type": "code",
      "source": [
        "#check those 5 negative coments, if were identified as negative:\n",
        "spark.sql('''\n",
        "          SELECT\n",
        "             *\n",
        "          FROM reviews_w_sentiments\n",
        "          where listing_id = 844172257191676124\n",
        "        ''').show(10, truncate=False) #)"
      ],
      "metadata": {
        "colab": {
          "base_uri": "https://localhost:8080/",
          "height": 390
        },
        "id": "Jn-rmXTXHYGX",
        "outputId": "3e7c4952-a709-4e17-b0ea-c4c4ae273121"
      },
      "execution_count": 60,
      "outputs": [
        {
          "output_type": "error",
          "ename": "KeyboardInterrupt",
          "evalue": "ignored",
          "traceback": [
            "\u001b[0;31m---------------------------------------------------------------------------\u001b[0m",
            "\u001b[0;31mKeyboardInterrupt\u001b[0m                         Traceback (most recent call last)",
            "\u001b[0;32m<ipython-input-60-e61fb51a8546>\u001b[0m in \u001b[0;36m<cell line: 2>\u001b[0;34m()\u001b[0m\n\u001b[1;32m      1\u001b[0m \u001b[0;31m#check those 5 negative coments, if were identified as negative:\u001b[0m\u001b[0;34m\u001b[0m\u001b[0;34m\u001b[0m\u001b[0m\n\u001b[0;32m----> 2\u001b[0;31m spark.sql('''\n\u001b[0m\u001b[1;32m      3\u001b[0m           \u001b[0mSELECT\u001b[0m\u001b[0;34m\u001b[0m\u001b[0;34m\u001b[0m\u001b[0m\n\u001b[1;32m      4\u001b[0m              \u001b[0;34m*\u001b[0m\u001b[0;34m\u001b[0m\u001b[0;34m\u001b[0m\u001b[0m\n\u001b[1;32m      5\u001b[0m           \u001b[0mFROM\u001b[0m \u001b[0mreviews_w_sentiments\u001b[0m\u001b[0;34m\u001b[0m\u001b[0;34m\u001b[0m\u001b[0m\n",
            "\u001b[0;32m/content/spark-3.1.2-bin-hadoop2.7/python/pyspark/sql/dataframe.py\u001b[0m in \u001b[0;36mshow\u001b[0;34m(self, n, truncate, vertical)\u001b[0m\n\u001b[1;32m    484\u001b[0m             \u001b[0mprint\u001b[0m\u001b[0;34m(\u001b[0m\u001b[0mself\u001b[0m\u001b[0;34m.\u001b[0m\u001b[0m_jdf\u001b[0m\u001b[0;34m.\u001b[0m\u001b[0mshowString\u001b[0m\u001b[0;34m(\u001b[0m\u001b[0mn\u001b[0m\u001b[0;34m,\u001b[0m \u001b[0;36m20\u001b[0m\u001b[0;34m,\u001b[0m \u001b[0mvertical\u001b[0m\u001b[0;34m)\u001b[0m\u001b[0;34m)\u001b[0m\u001b[0;34m\u001b[0m\u001b[0;34m\u001b[0m\u001b[0m\n\u001b[1;32m    485\u001b[0m         \u001b[0;32melse\u001b[0m\u001b[0;34m:\u001b[0m\u001b[0;34m\u001b[0m\u001b[0;34m\u001b[0m\u001b[0m\n\u001b[0;32m--> 486\u001b[0;31m             \u001b[0mprint\u001b[0m\u001b[0;34m(\u001b[0m\u001b[0mself\u001b[0m\u001b[0;34m.\u001b[0m\u001b[0m_jdf\u001b[0m\u001b[0;34m.\u001b[0m\u001b[0mshowString\u001b[0m\u001b[0;34m(\u001b[0m\u001b[0mn\u001b[0m\u001b[0;34m,\u001b[0m \u001b[0mint\u001b[0m\u001b[0;34m(\u001b[0m\u001b[0mtruncate\u001b[0m\u001b[0;34m)\u001b[0m\u001b[0;34m,\u001b[0m \u001b[0mvertical\u001b[0m\u001b[0;34m)\u001b[0m\u001b[0;34m)\u001b[0m\u001b[0;34m\u001b[0m\u001b[0;34m\u001b[0m\u001b[0m\n\u001b[0m\u001b[1;32m    487\u001b[0m \u001b[0;34m\u001b[0m\u001b[0m\n\u001b[1;32m    488\u001b[0m     \u001b[0;32mdef\u001b[0m \u001b[0m__repr__\u001b[0m\u001b[0;34m(\u001b[0m\u001b[0mself\u001b[0m\u001b[0;34m)\u001b[0m\u001b[0;34m:\u001b[0m\u001b[0;34m\u001b[0m\u001b[0;34m\u001b[0m\u001b[0m\n",
            "\u001b[0;32m/content/spark-3.1.2-bin-hadoop2.7/python/lib/py4j-0.10.9-src.zip/py4j/java_gateway.py\u001b[0m in \u001b[0;36m__call__\u001b[0;34m(self, *args)\u001b[0m\n\u001b[1;32m   1301\u001b[0m             \u001b[0mproto\u001b[0m\u001b[0;34m.\u001b[0m\u001b[0mEND_COMMAND_PART\u001b[0m\u001b[0;34m\u001b[0m\u001b[0;34m\u001b[0m\u001b[0m\n\u001b[1;32m   1302\u001b[0m \u001b[0;34m\u001b[0m\u001b[0m\n\u001b[0;32m-> 1303\u001b[0;31m         \u001b[0manswer\u001b[0m \u001b[0;34m=\u001b[0m \u001b[0mself\u001b[0m\u001b[0;34m.\u001b[0m\u001b[0mgateway_client\u001b[0m\u001b[0;34m.\u001b[0m\u001b[0msend_command\u001b[0m\u001b[0;34m(\u001b[0m\u001b[0mcommand\u001b[0m\u001b[0;34m)\u001b[0m\u001b[0;34m\u001b[0m\u001b[0;34m\u001b[0m\u001b[0m\n\u001b[0m\u001b[1;32m   1304\u001b[0m         return_value = get_return_value(\n\u001b[1;32m   1305\u001b[0m             answer, self.gateway_client, self.target_id, self.name)\n",
            "\u001b[0;32m/content/spark-3.1.2-bin-hadoop2.7/python/lib/py4j-0.10.9-src.zip/py4j/java_gateway.py\u001b[0m in \u001b[0;36msend_command\u001b[0;34m(self, command, retry, binary)\u001b[0m\n\u001b[1;32m   1031\u001b[0m         \u001b[0mconnection\u001b[0m \u001b[0;34m=\u001b[0m \u001b[0mself\u001b[0m\u001b[0;34m.\u001b[0m\u001b[0m_get_connection\u001b[0m\u001b[0;34m(\u001b[0m\u001b[0;34m)\u001b[0m\u001b[0;34m\u001b[0m\u001b[0;34m\u001b[0m\u001b[0m\n\u001b[1;32m   1032\u001b[0m         \u001b[0;32mtry\u001b[0m\u001b[0;34m:\u001b[0m\u001b[0;34m\u001b[0m\u001b[0;34m\u001b[0m\u001b[0m\n\u001b[0;32m-> 1033\u001b[0;31m             \u001b[0mresponse\u001b[0m \u001b[0;34m=\u001b[0m \u001b[0mconnection\u001b[0m\u001b[0;34m.\u001b[0m\u001b[0msend_command\u001b[0m\u001b[0;34m(\u001b[0m\u001b[0mcommand\u001b[0m\u001b[0;34m)\u001b[0m\u001b[0;34m\u001b[0m\u001b[0;34m\u001b[0m\u001b[0m\n\u001b[0m\u001b[1;32m   1034\u001b[0m             \u001b[0;32mif\u001b[0m \u001b[0mbinary\u001b[0m\u001b[0;34m:\u001b[0m\u001b[0;34m\u001b[0m\u001b[0;34m\u001b[0m\u001b[0m\n\u001b[1;32m   1035\u001b[0m                 \u001b[0;32mreturn\u001b[0m \u001b[0mresponse\u001b[0m\u001b[0;34m,\u001b[0m \u001b[0mself\u001b[0m\u001b[0;34m.\u001b[0m\u001b[0m_create_connection_guard\u001b[0m\u001b[0;34m(\u001b[0m\u001b[0mconnection\u001b[0m\u001b[0;34m)\u001b[0m\u001b[0;34m\u001b[0m\u001b[0;34m\u001b[0m\u001b[0m\n",
            "\u001b[0;32m/content/spark-3.1.2-bin-hadoop2.7/python/lib/py4j-0.10.9-src.zip/py4j/java_gateway.py\u001b[0m in \u001b[0;36msend_command\u001b[0;34m(self, command)\u001b[0m\n\u001b[1;32m   1198\u001b[0m \u001b[0;34m\u001b[0m\u001b[0m\n\u001b[1;32m   1199\u001b[0m         \u001b[0;32mtry\u001b[0m\u001b[0;34m:\u001b[0m\u001b[0;34m\u001b[0m\u001b[0;34m\u001b[0m\u001b[0m\n\u001b[0;32m-> 1200\u001b[0;31m             \u001b[0manswer\u001b[0m \u001b[0;34m=\u001b[0m \u001b[0msmart_decode\u001b[0m\u001b[0;34m(\u001b[0m\u001b[0mself\u001b[0m\u001b[0;34m.\u001b[0m\u001b[0mstream\u001b[0m\u001b[0;34m.\u001b[0m\u001b[0mreadline\u001b[0m\u001b[0;34m(\u001b[0m\u001b[0;34m)\u001b[0m\u001b[0;34m[\u001b[0m\u001b[0;34m:\u001b[0m\u001b[0;34m-\u001b[0m\u001b[0;36m1\u001b[0m\u001b[0;34m]\u001b[0m\u001b[0;34m)\u001b[0m\u001b[0;34m\u001b[0m\u001b[0;34m\u001b[0m\u001b[0m\n\u001b[0m\u001b[1;32m   1201\u001b[0m             \u001b[0mlogger\u001b[0m\u001b[0;34m.\u001b[0m\u001b[0mdebug\u001b[0m\u001b[0;34m(\u001b[0m\u001b[0;34m\"Answer received: {0}\"\u001b[0m\u001b[0;34m.\u001b[0m\u001b[0mformat\u001b[0m\u001b[0;34m(\u001b[0m\u001b[0manswer\u001b[0m\u001b[0;34m)\u001b[0m\u001b[0;34m)\u001b[0m\u001b[0;34m\u001b[0m\u001b[0;34m\u001b[0m\u001b[0m\n\u001b[1;32m   1202\u001b[0m             \u001b[0;32mif\u001b[0m \u001b[0manswer\u001b[0m\u001b[0;34m.\u001b[0m\u001b[0mstartswith\u001b[0m\u001b[0;34m(\u001b[0m\u001b[0mproto\u001b[0m\u001b[0;34m.\u001b[0m\u001b[0mRETURN_MESSAGE\u001b[0m\u001b[0;34m)\u001b[0m\u001b[0;34m:\u001b[0m\u001b[0;34m\u001b[0m\u001b[0;34m\u001b[0m\u001b[0m\n",
            "\u001b[0;32m/usr/lib/python3.10/socket.py\u001b[0m in \u001b[0;36mreadinto\u001b[0;34m(self, b)\u001b[0m\n\u001b[1;32m    703\u001b[0m         \u001b[0;32mwhile\u001b[0m \u001b[0;32mTrue\u001b[0m\u001b[0;34m:\u001b[0m\u001b[0;34m\u001b[0m\u001b[0;34m\u001b[0m\u001b[0m\n\u001b[1;32m    704\u001b[0m             \u001b[0;32mtry\u001b[0m\u001b[0;34m:\u001b[0m\u001b[0;34m\u001b[0m\u001b[0;34m\u001b[0m\u001b[0m\n\u001b[0;32m--> 705\u001b[0;31m                 \u001b[0;32mreturn\u001b[0m \u001b[0mself\u001b[0m\u001b[0;34m.\u001b[0m\u001b[0m_sock\u001b[0m\u001b[0;34m.\u001b[0m\u001b[0mrecv_into\u001b[0m\u001b[0;34m(\u001b[0m\u001b[0mb\u001b[0m\u001b[0;34m)\u001b[0m\u001b[0;34m\u001b[0m\u001b[0;34m\u001b[0m\u001b[0m\n\u001b[0m\u001b[1;32m    706\u001b[0m             \u001b[0;32mexcept\u001b[0m \u001b[0mtimeout\u001b[0m\u001b[0;34m:\u001b[0m\u001b[0;34m\u001b[0m\u001b[0;34m\u001b[0m\u001b[0m\n\u001b[1;32m    707\u001b[0m                 \u001b[0mself\u001b[0m\u001b[0;34m.\u001b[0m\u001b[0m_timeout_occurred\u001b[0m \u001b[0;34m=\u001b[0m \u001b[0;32mTrue\u001b[0m\u001b[0;34m\u001b[0m\u001b[0;34m\u001b[0m\u001b[0m\n",
            "\u001b[0;31mKeyboardInterrupt\u001b[0m: "
          ]
        }
      ]
    },
    {
      "cell_type": "code",
      "source": [
        "#create new column in df_reviews\n",
        "df_reviews.show(3)"
      ],
      "metadata": {
        "colab": {
          "base_uri": "https://localhost:8080/",
          "height": 338
        },
        "id": "WuDucwXRHv4O",
        "outputId": "5a365fe4-fa26-42bd-cdc2-3fa42572e4f4"
      },
      "execution_count": 61,
      "outputs": [
        {
          "output_type": "error",
          "ename": "KeyboardInterrupt",
          "evalue": "ignored",
          "traceback": [
            "\u001b[0;31m---------------------------------------------------------------------------\u001b[0m",
            "\u001b[0;31mKeyboardInterrupt\u001b[0m                         Traceback (most recent call last)",
            "\u001b[0;32m<ipython-input-61-bcd846a7c243>\u001b[0m in \u001b[0;36m<cell line: 2>\u001b[0;34m()\u001b[0m\n\u001b[1;32m      1\u001b[0m \u001b[0;31m#create new column in df_reviews\u001b[0m\u001b[0;34m\u001b[0m\u001b[0;34m\u001b[0m\u001b[0m\n\u001b[0;32m----> 2\u001b[0;31m \u001b[0mdf_reviews\u001b[0m\u001b[0;34m.\u001b[0m\u001b[0mshow\u001b[0m\u001b[0;34m(\u001b[0m\u001b[0;36m3\u001b[0m\u001b[0;34m)\u001b[0m\u001b[0;34m\u001b[0m\u001b[0;34m\u001b[0m\u001b[0m\n\u001b[0m",
            "\u001b[0;32m/content/spark-3.1.2-bin-hadoop2.7/python/pyspark/sql/dataframe.py\u001b[0m in \u001b[0;36mshow\u001b[0;34m(self, n, truncate, vertical)\u001b[0m\n\u001b[1;32m    482\u001b[0m         \"\"\"\n\u001b[1;32m    483\u001b[0m         \u001b[0;32mif\u001b[0m \u001b[0misinstance\u001b[0m\u001b[0;34m(\u001b[0m\u001b[0mtruncate\u001b[0m\u001b[0;34m,\u001b[0m \u001b[0mbool\u001b[0m\u001b[0;34m)\u001b[0m \u001b[0;32mand\u001b[0m \u001b[0mtruncate\u001b[0m\u001b[0;34m:\u001b[0m\u001b[0;34m\u001b[0m\u001b[0;34m\u001b[0m\u001b[0m\n\u001b[0;32m--> 484\u001b[0;31m             \u001b[0mprint\u001b[0m\u001b[0;34m(\u001b[0m\u001b[0mself\u001b[0m\u001b[0;34m.\u001b[0m\u001b[0m_jdf\u001b[0m\u001b[0;34m.\u001b[0m\u001b[0mshowString\u001b[0m\u001b[0;34m(\u001b[0m\u001b[0mn\u001b[0m\u001b[0;34m,\u001b[0m \u001b[0;36m20\u001b[0m\u001b[0;34m,\u001b[0m \u001b[0mvertical\u001b[0m\u001b[0;34m)\u001b[0m\u001b[0;34m)\u001b[0m\u001b[0;34m\u001b[0m\u001b[0;34m\u001b[0m\u001b[0m\n\u001b[0m\u001b[1;32m    485\u001b[0m         \u001b[0;32melse\u001b[0m\u001b[0;34m:\u001b[0m\u001b[0;34m\u001b[0m\u001b[0;34m\u001b[0m\u001b[0m\n\u001b[1;32m    486\u001b[0m             \u001b[0mprint\u001b[0m\u001b[0;34m(\u001b[0m\u001b[0mself\u001b[0m\u001b[0;34m.\u001b[0m\u001b[0m_jdf\u001b[0m\u001b[0;34m.\u001b[0m\u001b[0mshowString\u001b[0m\u001b[0;34m(\u001b[0m\u001b[0mn\u001b[0m\u001b[0;34m,\u001b[0m \u001b[0mint\u001b[0m\u001b[0;34m(\u001b[0m\u001b[0mtruncate\u001b[0m\u001b[0;34m)\u001b[0m\u001b[0;34m,\u001b[0m \u001b[0mvertical\u001b[0m\u001b[0;34m)\u001b[0m\u001b[0;34m)\u001b[0m\u001b[0;34m\u001b[0m\u001b[0;34m\u001b[0m\u001b[0m\n",
            "\u001b[0;32m/content/spark-3.1.2-bin-hadoop2.7/python/lib/py4j-0.10.9-src.zip/py4j/java_gateway.py\u001b[0m in \u001b[0;36m__call__\u001b[0;34m(self, *args)\u001b[0m\n\u001b[1;32m   1301\u001b[0m             \u001b[0mproto\u001b[0m\u001b[0;34m.\u001b[0m\u001b[0mEND_COMMAND_PART\u001b[0m\u001b[0;34m\u001b[0m\u001b[0;34m\u001b[0m\u001b[0m\n\u001b[1;32m   1302\u001b[0m \u001b[0;34m\u001b[0m\u001b[0m\n\u001b[0;32m-> 1303\u001b[0;31m         \u001b[0manswer\u001b[0m \u001b[0;34m=\u001b[0m \u001b[0mself\u001b[0m\u001b[0;34m.\u001b[0m\u001b[0mgateway_client\u001b[0m\u001b[0;34m.\u001b[0m\u001b[0msend_command\u001b[0m\u001b[0;34m(\u001b[0m\u001b[0mcommand\u001b[0m\u001b[0;34m)\u001b[0m\u001b[0;34m\u001b[0m\u001b[0;34m\u001b[0m\u001b[0m\n\u001b[0m\u001b[1;32m   1304\u001b[0m         return_value = get_return_value(\n\u001b[1;32m   1305\u001b[0m             answer, self.gateway_client, self.target_id, self.name)\n",
            "\u001b[0;32m/content/spark-3.1.2-bin-hadoop2.7/python/lib/py4j-0.10.9-src.zip/py4j/java_gateway.py\u001b[0m in \u001b[0;36msend_command\u001b[0;34m(self, command, retry, binary)\u001b[0m\n\u001b[1;32m   1031\u001b[0m         \u001b[0mconnection\u001b[0m \u001b[0;34m=\u001b[0m \u001b[0mself\u001b[0m\u001b[0;34m.\u001b[0m\u001b[0m_get_connection\u001b[0m\u001b[0;34m(\u001b[0m\u001b[0;34m)\u001b[0m\u001b[0;34m\u001b[0m\u001b[0;34m\u001b[0m\u001b[0m\n\u001b[1;32m   1032\u001b[0m         \u001b[0;32mtry\u001b[0m\u001b[0;34m:\u001b[0m\u001b[0;34m\u001b[0m\u001b[0;34m\u001b[0m\u001b[0m\n\u001b[0;32m-> 1033\u001b[0;31m             \u001b[0mresponse\u001b[0m \u001b[0;34m=\u001b[0m \u001b[0mconnection\u001b[0m\u001b[0;34m.\u001b[0m\u001b[0msend_command\u001b[0m\u001b[0;34m(\u001b[0m\u001b[0mcommand\u001b[0m\u001b[0;34m)\u001b[0m\u001b[0;34m\u001b[0m\u001b[0;34m\u001b[0m\u001b[0m\n\u001b[0m\u001b[1;32m   1034\u001b[0m             \u001b[0;32mif\u001b[0m \u001b[0mbinary\u001b[0m\u001b[0;34m:\u001b[0m\u001b[0;34m\u001b[0m\u001b[0;34m\u001b[0m\u001b[0m\n\u001b[1;32m   1035\u001b[0m                 \u001b[0;32mreturn\u001b[0m \u001b[0mresponse\u001b[0m\u001b[0;34m,\u001b[0m \u001b[0mself\u001b[0m\u001b[0;34m.\u001b[0m\u001b[0m_create_connection_guard\u001b[0m\u001b[0;34m(\u001b[0m\u001b[0mconnection\u001b[0m\u001b[0;34m)\u001b[0m\u001b[0;34m\u001b[0m\u001b[0;34m\u001b[0m\u001b[0m\n",
            "\u001b[0;32m/content/spark-3.1.2-bin-hadoop2.7/python/lib/py4j-0.10.9-src.zip/py4j/java_gateway.py\u001b[0m in \u001b[0;36msend_command\u001b[0;34m(self, command)\u001b[0m\n\u001b[1;32m   1198\u001b[0m \u001b[0;34m\u001b[0m\u001b[0m\n\u001b[1;32m   1199\u001b[0m         \u001b[0;32mtry\u001b[0m\u001b[0;34m:\u001b[0m\u001b[0;34m\u001b[0m\u001b[0;34m\u001b[0m\u001b[0m\n\u001b[0;32m-> 1200\u001b[0;31m             \u001b[0manswer\u001b[0m \u001b[0;34m=\u001b[0m \u001b[0msmart_decode\u001b[0m\u001b[0;34m(\u001b[0m\u001b[0mself\u001b[0m\u001b[0;34m.\u001b[0m\u001b[0mstream\u001b[0m\u001b[0;34m.\u001b[0m\u001b[0mreadline\u001b[0m\u001b[0;34m(\u001b[0m\u001b[0;34m)\u001b[0m\u001b[0;34m[\u001b[0m\u001b[0;34m:\u001b[0m\u001b[0;34m-\u001b[0m\u001b[0;36m1\u001b[0m\u001b[0;34m]\u001b[0m\u001b[0;34m)\u001b[0m\u001b[0;34m\u001b[0m\u001b[0;34m\u001b[0m\u001b[0m\n\u001b[0m\u001b[1;32m   1201\u001b[0m             \u001b[0mlogger\u001b[0m\u001b[0;34m.\u001b[0m\u001b[0mdebug\u001b[0m\u001b[0;34m(\u001b[0m\u001b[0;34m\"Answer received: {0}\"\u001b[0m\u001b[0;34m.\u001b[0m\u001b[0mformat\u001b[0m\u001b[0;34m(\u001b[0m\u001b[0manswer\u001b[0m\u001b[0;34m)\u001b[0m\u001b[0;34m)\u001b[0m\u001b[0;34m\u001b[0m\u001b[0;34m\u001b[0m\u001b[0m\n\u001b[1;32m   1202\u001b[0m             \u001b[0;32mif\u001b[0m \u001b[0manswer\u001b[0m\u001b[0;34m.\u001b[0m\u001b[0mstartswith\u001b[0m\u001b[0;34m(\u001b[0m\u001b[0mproto\u001b[0m\u001b[0;34m.\u001b[0m\u001b[0mRETURN_MESSAGE\u001b[0m\u001b[0;34m)\u001b[0m\u001b[0;34m:\u001b[0m\u001b[0;34m\u001b[0m\u001b[0;34m\u001b[0m\u001b[0m\n",
            "\u001b[0;32m/usr/lib/python3.10/socket.py\u001b[0m in \u001b[0;36mreadinto\u001b[0;34m(self, b)\u001b[0m\n\u001b[1;32m    703\u001b[0m         \u001b[0;32mwhile\u001b[0m \u001b[0;32mTrue\u001b[0m\u001b[0;34m:\u001b[0m\u001b[0;34m\u001b[0m\u001b[0;34m\u001b[0m\u001b[0m\n\u001b[1;32m    704\u001b[0m             \u001b[0;32mtry\u001b[0m\u001b[0;34m:\u001b[0m\u001b[0;34m\u001b[0m\u001b[0;34m\u001b[0m\u001b[0m\n\u001b[0;32m--> 705\u001b[0;31m                 \u001b[0;32mreturn\u001b[0m \u001b[0mself\u001b[0m\u001b[0;34m.\u001b[0m\u001b[0m_sock\u001b[0m\u001b[0;34m.\u001b[0m\u001b[0mrecv_into\u001b[0m\u001b[0;34m(\u001b[0m\u001b[0mb\u001b[0m\u001b[0;34m)\u001b[0m\u001b[0;34m\u001b[0m\u001b[0;34m\u001b[0m\u001b[0m\n\u001b[0m\u001b[1;32m    706\u001b[0m             \u001b[0;32mexcept\u001b[0m \u001b[0mtimeout\u001b[0m\u001b[0;34m:\u001b[0m\u001b[0;34m\u001b[0m\u001b[0;34m\u001b[0m\u001b[0m\n\u001b[1;32m    707\u001b[0m                 \u001b[0mself\u001b[0m\u001b[0;34m.\u001b[0m\u001b[0m_timeout_occurred\u001b[0m \u001b[0;34m=\u001b[0m \u001b[0;32mTrue\u001b[0m\u001b[0;34m\u001b[0m\u001b[0;34m\u001b[0m\u001b[0m\n",
            "\u001b[0;31mKeyboardInterrupt\u001b[0m: "
          ]
        }
      ]
    },
    {
      "cell_type": "code",
      "source": [],
      "metadata": {
        "id": "v6RGCTQNHv2I"
      },
      "execution_count": null,
      "outputs": []
    },
    {
      "cell_type": "code",
      "source": [
        "# 500 k + rows, to much to execute in Colab. --> LIMIT NUM OF ROWS!"
      ],
      "metadata": {
        "id": "tDDznIKfHYEG"
      },
      "execution_count": null,
      "outputs": []
    },
    {
      "cell_type": "code",
      "source": [
        "spark.sql('''\n",
        "          SELECT\n",
        "            *\n",
        "          FROM reviews_w_sentiments\n",
        "          limit 100\n",
        "         -- WHERE sentiment IN ('Positive', 'Neutral', 'Negative')\n",
        "        ''').show(10) #, truncate=False"
      ],
      "metadata": {
        "colab": {
          "base_uri": "https://localhost:8080/",
          "height": 355
        },
        "id": "e8oi-0RCGxc0",
        "outputId": "f5f313da-f1b7-4641-e324-c1167422d0b0"
      },
      "execution_count": 56,
      "outputs": [
        {
          "output_type": "error",
          "ename": "KeyboardInterrupt",
          "evalue": "ignored",
          "traceback": [
            "\u001b[0;31m---------------------------------------------------------------------------\u001b[0m",
            "\u001b[0;31mKeyboardInterrupt\u001b[0m                         Traceback (most recent call last)",
            "\u001b[0;32m<ipython-input-56-0a62d3648c49>\u001b[0m in \u001b[0;36m<cell line: 1>\u001b[0;34m()\u001b[0m\n\u001b[1;32m      5\u001b[0m           \u001b[0mlimit\u001b[0m \u001b[0;36m100\u001b[0m\u001b[0;34m\u001b[0m\u001b[0;34m\u001b[0m\u001b[0m\n\u001b[1;32m      6\u001b[0m          \u001b[0;34m-\u001b[0m\u001b[0;34m-\u001b[0m \u001b[0mWHERE\u001b[0m \u001b[0msentiment\u001b[0m \u001b[0mIN\u001b[0m \u001b[0;34m(\u001b[0m\u001b[0;34m'Positive'\u001b[0m\u001b[0;34m,\u001b[0m \u001b[0;34m'Neutral'\u001b[0m\u001b[0;34m,\u001b[0m \u001b[0;34m'Negative'\u001b[0m\u001b[0;34m)\u001b[0m\u001b[0;34m\u001b[0m\u001b[0;34m\u001b[0m\u001b[0m\n\u001b[0;32m----> 7\u001b[0;31m         ''').show(10) #, truncate=False\n\u001b[0m",
            "\u001b[0;32m/content/spark-3.1.2-bin-hadoop2.7/python/pyspark/sql/dataframe.py\u001b[0m in \u001b[0;36mshow\u001b[0;34m(self, n, truncate, vertical)\u001b[0m\n\u001b[1;32m    482\u001b[0m         \"\"\"\n\u001b[1;32m    483\u001b[0m         \u001b[0;32mif\u001b[0m \u001b[0misinstance\u001b[0m\u001b[0;34m(\u001b[0m\u001b[0mtruncate\u001b[0m\u001b[0;34m,\u001b[0m \u001b[0mbool\u001b[0m\u001b[0;34m)\u001b[0m \u001b[0;32mand\u001b[0m \u001b[0mtruncate\u001b[0m\u001b[0;34m:\u001b[0m\u001b[0;34m\u001b[0m\u001b[0;34m\u001b[0m\u001b[0m\n\u001b[0;32m--> 484\u001b[0;31m             \u001b[0mprint\u001b[0m\u001b[0;34m(\u001b[0m\u001b[0mself\u001b[0m\u001b[0;34m.\u001b[0m\u001b[0m_jdf\u001b[0m\u001b[0;34m.\u001b[0m\u001b[0mshowString\u001b[0m\u001b[0;34m(\u001b[0m\u001b[0mn\u001b[0m\u001b[0;34m,\u001b[0m \u001b[0;36m20\u001b[0m\u001b[0;34m,\u001b[0m \u001b[0mvertical\u001b[0m\u001b[0;34m)\u001b[0m\u001b[0;34m)\u001b[0m\u001b[0;34m\u001b[0m\u001b[0;34m\u001b[0m\u001b[0m\n\u001b[0m\u001b[1;32m    485\u001b[0m         \u001b[0;32melse\u001b[0m\u001b[0;34m:\u001b[0m\u001b[0;34m\u001b[0m\u001b[0;34m\u001b[0m\u001b[0m\n\u001b[1;32m    486\u001b[0m             \u001b[0mprint\u001b[0m\u001b[0;34m(\u001b[0m\u001b[0mself\u001b[0m\u001b[0;34m.\u001b[0m\u001b[0m_jdf\u001b[0m\u001b[0;34m.\u001b[0m\u001b[0mshowString\u001b[0m\u001b[0;34m(\u001b[0m\u001b[0mn\u001b[0m\u001b[0;34m,\u001b[0m \u001b[0mint\u001b[0m\u001b[0;34m(\u001b[0m\u001b[0mtruncate\u001b[0m\u001b[0;34m)\u001b[0m\u001b[0;34m,\u001b[0m \u001b[0mvertical\u001b[0m\u001b[0;34m)\u001b[0m\u001b[0;34m)\u001b[0m\u001b[0;34m\u001b[0m\u001b[0;34m\u001b[0m\u001b[0m\n",
            "\u001b[0;32m/content/spark-3.1.2-bin-hadoop2.7/python/lib/py4j-0.10.9-src.zip/py4j/java_gateway.py\u001b[0m in \u001b[0;36m__call__\u001b[0;34m(self, *args)\u001b[0m\n\u001b[1;32m   1301\u001b[0m             \u001b[0mproto\u001b[0m\u001b[0;34m.\u001b[0m\u001b[0mEND_COMMAND_PART\u001b[0m\u001b[0;34m\u001b[0m\u001b[0;34m\u001b[0m\u001b[0m\n\u001b[1;32m   1302\u001b[0m \u001b[0;34m\u001b[0m\u001b[0m\n\u001b[0;32m-> 1303\u001b[0;31m         \u001b[0manswer\u001b[0m \u001b[0;34m=\u001b[0m \u001b[0mself\u001b[0m\u001b[0;34m.\u001b[0m\u001b[0mgateway_client\u001b[0m\u001b[0;34m.\u001b[0m\u001b[0msend_command\u001b[0m\u001b[0;34m(\u001b[0m\u001b[0mcommand\u001b[0m\u001b[0;34m)\u001b[0m\u001b[0;34m\u001b[0m\u001b[0;34m\u001b[0m\u001b[0m\n\u001b[0m\u001b[1;32m   1304\u001b[0m         return_value = get_return_value(\n\u001b[1;32m   1305\u001b[0m             answer, self.gateway_client, self.target_id, self.name)\n",
            "\u001b[0;32m/content/spark-3.1.2-bin-hadoop2.7/python/lib/py4j-0.10.9-src.zip/py4j/java_gateway.py\u001b[0m in \u001b[0;36msend_command\u001b[0;34m(self, command, retry, binary)\u001b[0m\n\u001b[1;32m   1031\u001b[0m         \u001b[0mconnection\u001b[0m \u001b[0;34m=\u001b[0m \u001b[0mself\u001b[0m\u001b[0;34m.\u001b[0m\u001b[0m_get_connection\u001b[0m\u001b[0;34m(\u001b[0m\u001b[0;34m)\u001b[0m\u001b[0;34m\u001b[0m\u001b[0;34m\u001b[0m\u001b[0m\n\u001b[1;32m   1032\u001b[0m         \u001b[0;32mtry\u001b[0m\u001b[0;34m:\u001b[0m\u001b[0;34m\u001b[0m\u001b[0;34m\u001b[0m\u001b[0m\n\u001b[0;32m-> 1033\u001b[0;31m             \u001b[0mresponse\u001b[0m \u001b[0;34m=\u001b[0m \u001b[0mconnection\u001b[0m\u001b[0;34m.\u001b[0m\u001b[0msend_command\u001b[0m\u001b[0;34m(\u001b[0m\u001b[0mcommand\u001b[0m\u001b[0;34m)\u001b[0m\u001b[0;34m\u001b[0m\u001b[0;34m\u001b[0m\u001b[0m\n\u001b[0m\u001b[1;32m   1034\u001b[0m             \u001b[0;32mif\u001b[0m \u001b[0mbinary\u001b[0m\u001b[0;34m:\u001b[0m\u001b[0;34m\u001b[0m\u001b[0;34m\u001b[0m\u001b[0m\n\u001b[1;32m   1035\u001b[0m                 \u001b[0;32mreturn\u001b[0m \u001b[0mresponse\u001b[0m\u001b[0;34m,\u001b[0m \u001b[0mself\u001b[0m\u001b[0;34m.\u001b[0m\u001b[0m_create_connection_guard\u001b[0m\u001b[0;34m(\u001b[0m\u001b[0mconnection\u001b[0m\u001b[0;34m)\u001b[0m\u001b[0;34m\u001b[0m\u001b[0;34m\u001b[0m\u001b[0m\n",
            "\u001b[0;32m/content/spark-3.1.2-bin-hadoop2.7/python/lib/py4j-0.10.9-src.zip/py4j/java_gateway.py\u001b[0m in \u001b[0;36msend_command\u001b[0;34m(self, command)\u001b[0m\n\u001b[1;32m   1198\u001b[0m \u001b[0;34m\u001b[0m\u001b[0m\n\u001b[1;32m   1199\u001b[0m         \u001b[0;32mtry\u001b[0m\u001b[0;34m:\u001b[0m\u001b[0;34m\u001b[0m\u001b[0;34m\u001b[0m\u001b[0m\n\u001b[0;32m-> 1200\u001b[0;31m             \u001b[0manswer\u001b[0m \u001b[0;34m=\u001b[0m \u001b[0msmart_decode\u001b[0m\u001b[0;34m(\u001b[0m\u001b[0mself\u001b[0m\u001b[0;34m.\u001b[0m\u001b[0mstream\u001b[0m\u001b[0;34m.\u001b[0m\u001b[0mreadline\u001b[0m\u001b[0;34m(\u001b[0m\u001b[0;34m)\u001b[0m\u001b[0;34m[\u001b[0m\u001b[0;34m:\u001b[0m\u001b[0;34m-\u001b[0m\u001b[0;36m1\u001b[0m\u001b[0;34m]\u001b[0m\u001b[0;34m)\u001b[0m\u001b[0;34m\u001b[0m\u001b[0;34m\u001b[0m\u001b[0m\n\u001b[0m\u001b[1;32m   1201\u001b[0m             \u001b[0mlogger\u001b[0m\u001b[0;34m.\u001b[0m\u001b[0mdebug\u001b[0m\u001b[0;34m(\u001b[0m\u001b[0;34m\"Answer received: {0}\"\u001b[0m\u001b[0;34m.\u001b[0m\u001b[0mformat\u001b[0m\u001b[0;34m(\u001b[0m\u001b[0manswer\u001b[0m\u001b[0;34m)\u001b[0m\u001b[0;34m)\u001b[0m\u001b[0;34m\u001b[0m\u001b[0;34m\u001b[0m\u001b[0m\n\u001b[1;32m   1202\u001b[0m             \u001b[0;32mif\u001b[0m \u001b[0manswer\u001b[0m\u001b[0;34m.\u001b[0m\u001b[0mstartswith\u001b[0m\u001b[0;34m(\u001b[0m\u001b[0mproto\u001b[0m\u001b[0;34m.\u001b[0m\u001b[0mRETURN_MESSAGE\u001b[0m\u001b[0;34m)\u001b[0m\u001b[0;34m:\u001b[0m\u001b[0;34m\u001b[0m\u001b[0;34m\u001b[0m\u001b[0m\n",
            "\u001b[0;32m/usr/lib/python3.10/socket.py\u001b[0m in \u001b[0;36mreadinto\u001b[0;34m(self, b)\u001b[0m\n\u001b[1;32m    703\u001b[0m         \u001b[0;32mwhile\u001b[0m \u001b[0;32mTrue\u001b[0m\u001b[0;34m:\u001b[0m\u001b[0;34m\u001b[0m\u001b[0;34m\u001b[0m\u001b[0m\n\u001b[1;32m    704\u001b[0m             \u001b[0;32mtry\u001b[0m\u001b[0;34m:\u001b[0m\u001b[0;34m\u001b[0m\u001b[0;34m\u001b[0m\u001b[0m\n\u001b[0;32m--> 705\u001b[0;31m                 \u001b[0;32mreturn\u001b[0m \u001b[0mself\u001b[0m\u001b[0;34m.\u001b[0m\u001b[0m_sock\u001b[0m\u001b[0;34m.\u001b[0m\u001b[0mrecv_into\u001b[0m\u001b[0;34m(\u001b[0m\u001b[0mb\u001b[0m\u001b[0;34m)\u001b[0m\u001b[0;34m\u001b[0m\u001b[0;34m\u001b[0m\u001b[0m\n\u001b[0m\u001b[1;32m    706\u001b[0m             \u001b[0;32mexcept\u001b[0m \u001b[0mtimeout\u001b[0m\u001b[0;34m:\u001b[0m\u001b[0;34m\u001b[0m\u001b[0;34m\u001b[0m\u001b[0m\n\u001b[1;32m    707\u001b[0m                 \u001b[0mself\u001b[0m\u001b[0;34m.\u001b[0m\u001b[0m_timeout_occurred\u001b[0m \u001b[0;34m=\u001b[0m \u001b[0;32mTrue\u001b[0m\u001b[0;34m\u001b[0m\u001b[0;34m\u001b[0m\u001b[0m\n",
            "\u001b[0;31mKeyboardInterrupt\u001b[0m: "
          ]
        }
      ]
    },
    {
      "cell_type": "code",
      "source": [
        "#count number of negative, neutral and positive:\n",
        "df_reviews_w_sentiment.groupby(\"sentiment\").count().show()  #more than min and nothing"
      ],
      "metadata": {
        "colab": {
          "base_uri": "https://localhost:8080/",
          "height": 338
        },
        "id": "eE-jJDR--iN4",
        "outputId": "e3d9bd06-6632-4294-ab9d-c8e4503e1206"
      },
      "execution_count": 40,
      "outputs": [
        {
          "output_type": "error",
          "ename": "KeyboardInterrupt",
          "evalue": "ignored",
          "traceback": [
            "\u001b[0;31m---------------------------------------------------------------------------\u001b[0m",
            "\u001b[0;31mKeyboardInterrupt\u001b[0m                         Traceback (most recent call last)",
            "\u001b[0;32m<ipython-input-40-78dfed346a24>\u001b[0m in \u001b[0;36m<cell line: 2>\u001b[0;34m()\u001b[0m\n\u001b[1;32m      1\u001b[0m \u001b[0;31m#count number of negative, neutral and positive:\u001b[0m\u001b[0;34m\u001b[0m\u001b[0;34m\u001b[0m\u001b[0m\n\u001b[0;32m----> 2\u001b[0;31m \u001b[0mdf_reviews_w_sentiment\u001b[0m\u001b[0;34m.\u001b[0m\u001b[0mgroupby\u001b[0m\u001b[0;34m(\u001b[0m\u001b[0;34m\"sentiment\"\u001b[0m\u001b[0;34m)\u001b[0m\u001b[0;34m.\u001b[0m\u001b[0mcount\u001b[0m\u001b[0;34m(\u001b[0m\u001b[0;34m)\u001b[0m\u001b[0;34m.\u001b[0m\u001b[0mshow\u001b[0m\u001b[0;34m(\u001b[0m\u001b[0;34m)\u001b[0m  \u001b[0;31m#more than min and nothing\u001b[0m\u001b[0;34m\u001b[0m\u001b[0;34m\u001b[0m\u001b[0m\n\u001b[0m",
            "\u001b[0;32m/content/spark-3.1.2-bin-hadoop2.7/python/pyspark/sql/dataframe.py\u001b[0m in \u001b[0;36mshow\u001b[0;34m(self, n, truncate, vertical)\u001b[0m\n\u001b[1;32m    482\u001b[0m         \"\"\"\n\u001b[1;32m    483\u001b[0m         \u001b[0;32mif\u001b[0m \u001b[0misinstance\u001b[0m\u001b[0;34m(\u001b[0m\u001b[0mtruncate\u001b[0m\u001b[0;34m,\u001b[0m \u001b[0mbool\u001b[0m\u001b[0;34m)\u001b[0m \u001b[0;32mand\u001b[0m \u001b[0mtruncate\u001b[0m\u001b[0;34m:\u001b[0m\u001b[0;34m\u001b[0m\u001b[0;34m\u001b[0m\u001b[0m\n\u001b[0;32m--> 484\u001b[0;31m             \u001b[0mprint\u001b[0m\u001b[0;34m(\u001b[0m\u001b[0mself\u001b[0m\u001b[0;34m.\u001b[0m\u001b[0m_jdf\u001b[0m\u001b[0;34m.\u001b[0m\u001b[0mshowString\u001b[0m\u001b[0;34m(\u001b[0m\u001b[0mn\u001b[0m\u001b[0;34m,\u001b[0m \u001b[0;36m20\u001b[0m\u001b[0;34m,\u001b[0m \u001b[0mvertical\u001b[0m\u001b[0;34m)\u001b[0m\u001b[0;34m)\u001b[0m\u001b[0;34m\u001b[0m\u001b[0;34m\u001b[0m\u001b[0m\n\u001b[0m\u001b[1;32m    485\u001b[0m         \u001b[0;32melse\u001b[0m\u001b[0;34m:\u001b[0m\u001b[0;34m\u001b[0m\u001b[0;34m\u001b[0m\u001b[0m\n\u001b[1;32m    486\u001b[0m             \u001b[0mprint\u001b[0m\u001b[0;34m(\u001b[0m\u001b[0mself\u001b[0m\u001b[0;34m.\u001b[0m\u001b[0m_jdf\u001b[0m\u001b[0;34m.\u001b[0m\u001b[0mshowString\u001b[0m\u001b[0;34m(\u001b[0m\u001b[0mn\u001b[0m\u001b[0;34m,\u001b[0m \u001b[0mint\u001b[0m\u001b[0;34m(\u001b[0m\u001b[0mtruncate\u001b[0m\u001b[0;34m)\u001b[0m\u001b[0;34m,\u001b[0m \u001b[0mvertical\u001b[0m\u001b[0;34m)\u001b[0m\u001b[0;34m)\u001b[0m\u001b[0;34m\u001b[0m\u001b[0;34m\u001b[0m\u001b[0m\n",
            "\u001b[0;32m/content/spark-3.1.2-bin-hadoop2.7/python/lib/py4j-0.10.9-src.zip/py4j/java_gateway.py\u001b[0m in \u001b[0;36m__call__\u001b[0;34m(self, *args)\u001b[0m\n\u001b[1;32m   1301\u001b[0m             \u001b[0mproto\u001b[0m\u001b[0;34m.\u001b[0m\u001b[0mEND_COMMAND_PART\u001b[0m\u001b[0;34m\u001b[0m\u001b[0;34m\u001b[0m\u001b[0m\n\u001b[1;32m   1302\u001b[0m \u001b[0;34m\u001b[0m\u001b[0m\n\u001b[0;32m-> 1303\u001b[0;31m         \u001b[0manswer\u001b[0m \u001b[0;34m=\u001b[0m \u001b[0mself\u001b[0m\u001b[0;34m.\u001b[0m\u001b[0mgateway_client\u001b[0m\u001b[0;34m.\u001b[0m\u001b[0msend_command\u001b[0m\u001b[0;34m(\u001b[0m\u001b[0mcommand\u001b[0m\u001b[0;34m)\u001b[0m\u001b[0;34m\u001b[0m\u001b[0;34m\u001b[0m\u001b[0m\n\u001b[0m\u001b[1;32m   1304\u001b[0m         return_value = get_return_value(\n\u001b[1;32m   1305\u001b[0m             answer, self.gateway_client, self.target_id, self.name)\n",
            "\u001b[0;32m/content/spark-3.1.2-bin-hadoop2.7/python/lib/py4j-0.10.9-src.zip/py4j/java_gateway.py\u001b[0m in \u001b[0;36msend_command\u001b[0;34m(self, command, retry, binary)\u001b[0m\n\u001b[1;32m   1031\u001b[0m         \u001b[0mconnection\u001b[0m \u001b[0;34m=\u001b[0m \u001b[0mself\u001b[0m\u001b[0;34m.\u001b[0m\u001b[0m_get_connection\u001b[0m\u001b[0;34m(\u001b[0m\u001b[0;34m)\u001b[0m\u001b[0;34m\u001b[0m\u001b[0;34m\u001b[0m\u001b[0m\n\u001b[1;32m   1032\u001b[0m         \u001b[0;32mtry\u001b[0m\u001b[0;34m:\u001b[0m\u001b[0;34m\u001b[0m\u001b[0;34m\u001b[0m\u001b[0m\n\u001b[0;32m-> 1033\u001b[0;31m             \u001b[0mresponse\u001b[0m \u001b[0;34m=\u001b[0m \u001b[0mconnection\u001b[0m\u001b[0;34m.\u001b[0m\u001b[0msend_command\u001b[0m\u001b[0;34m(\u001b[0m\u001b[0mcommand\u001b[0m\u001b[0;34m)\u001b[0m\u001b[0;34m\u001b[0m\u001b[0;34m\u001b[0m\u001b[0m\n\u001b[0m\u001b[1;32m   1034\u001b[0m             \u001b[0;32mif\u001b[0m \u001b[0mbinary\u001b[0m\u001b[0;34m:\u001b[0m\u001b[0;34m\u001b[0m\u001b[0;34m\u001b[0m\u001b[0m\n\u001b[1;32m   1035\u001b[0m                 \u001b[0;32mreturn\u001b[0m \u001b[0mresponse\u001b[0m\u001b[0;34m,\u001b[0m \u001b[0mself\u001b[0m\u001b[0;34m.\u001b[0m\u001b[0m_create_connection_guard\u001b[0m\u001b[0;34m(\u001b[0m\u001b[0mconnection\u001b[0m\u001b[0;34m)\u001b[0m\u001b[0;34m\u001b[0m\u001b[0;34m\u001b[0m\u001b[0m\n",
            "\u001b[0;32m/content/spark-3.1.2-bin-hadoop2.7/python/lib/py4j-0.10.9-src.zip/py4j/java_gateway.py\u001b[0m in \u001b[0;36msend_command\u001b[0;34m(self, command)\u001b[0m\n\u001b[1;32m   1198\u001b[0m \u001b[0;34m\u001b[0m\u001b[0m\n\u001b[1;32m   1199\u001b[0m         \u001b[0;32mtry\u001b[0m\u001b[0;34m:\u001b[0m\u001b[0;34m\u001b[0m\u001b[0;34m\u001b[0m\u001b[0m\n\u001b[0;32m-> 1200\u001b[0;31m             \u001b[0manswer\u001b[0m \u001b[0;34m=\u001b[0m \u001b[0msmart_decode\u001b[0m\u001b[0;34m(\u001b[0m\u001b[0mself\u001b[0m\u001b[0;34m.\u001b[0m\u001b[0mstream\u001b[0m\u001b[0;34m.\u001b[0m\u001b[0mreadline\u001b[0m\u001b[0;34m(\u001b[0m\u001b[0;34m)\u001b[0m\u001b[0;34m[\u001b[0m\u001b[0;34m:\u001b[0m\u001b[0;34m-\u001b[0m\u001b[0;36m1\u001b[0m\u001b[0;34m]\u001b[0m\u001b[0;34m)\u001b[0m\u001b[0;34m\u001b[0m\u001b[0;34m\u001b[0m\u001b[0m\n\u001b[0m\u001b[1;32m   1201\u001b[0m             \u001b[0mlogger\u001b[0m\u001b[0;34m.\u001b[0m\u001b[0mdebug\u001b[0m\u001b[0;34m(\u001b[0m\u001b[0;34m\"Answer received: {0}\"\u001b[0m\u001b[0;34m.\u001b[0m\u001b[0mformat\u001b[0m\u001b[0;34m(\u001b[0m\u001b[0manswer\u001b[0m\u001b[0;34m)\u001b[0m\u001b[0;34m)\u001b[0m\u001b[0;34m\u001b[0m\u001b[0;34m\u001b[0m\u001b[0m\n\u001b[1;32m   1202\u001b[0m             \u001b[0;32mif\u001b[0m \u001b[0manswer\u001b[0m\u001b[0;34m.\u001b[0m\u001b[0mstartswith\u001b[0m\u001b[0;34m(\u001b[0m\u001b[0mproto\u001b[0m\u001b[0;34m.\u001b[0m\u001b[0mRETURN_MESSAGE\u001b[0m\u001b[0;34m)\u001b[0m\u001b[0;34m:\u001b[0m\u001b[0;34m\u001b[0m\u001b[0;34m\u001b[0m\u001b[0m\n",
            "\u001b[0;32m/usr/lib/python3.10/socket.py\u001b[0m in \u001b[0;36mreadinto\u001b[0;34m(self, b)\u001b[0m\n\u001b[1;32m    703\u001b[0m         \u001b[0;32mwhile\u001b[0m \u001b[0;32mTrue\u001b[0m\u001b[0;34m:\u001b[0m\u001b[0;34m\u001b[0m\u001b[0;34m\u001b[0m\u001b[0m\n\u001b[1;32m    704\u001b[0m             \u001b[0;32mtry\u001b[0m\u001b[0;34m:\u001b[0m\u001b[0;34m\u001b[0m\u001b[0;34m\u001b[0m\u001b[0m\n\u001b[0;32m--> 705\u001b[0;31m                 \u001b[0;32mreturn\u001b[0m \u001b[0mself\u001b[0m\u001b[0;34m.\u001b[0m\u001b[0m_sock\u001b[0m\u001b[0;34m.\u001b[0m\u001b[0mrecv_into\u001b[0m\u001b[0;34m(\u001b[0m\u001b[0mb\u001b[0m\u001b[0;34m)\u001b[0m\u001b[0;34m\u001b[0m\u001b[0;34m\u001b[0m\u001b[0m\n\u001b[0m\u001b[1;32m    706\u001b[0m             \u001b[0;32mexcept\u001b[0m \u001b[0mtimeout\u001b[0m\u001b[0;34m:\u001b[0m\u001b[0;34m\u001b[0m\u001b[0;34m\u001b[0m\u001b[0m\n\u001b[1;32m    707\u001b[0m                 \u001b[0mself\u001b[0m\u001b[0;34m.\u001b[0m\u001b[0m_timeout_occurred\u001b[0m \u001b[0;34m=\u001b[0m \u001b[0;32mTrue\u001b[0m\u001b[0;34m\u001b[0m\u001b[0;34m\u001b[0m\u001b[0m\n",
            "\u001b[0;31mKeyboardInterrupt\u001b[0m: "
          ]
        }
      ]
    },
    {
      "cell_type": "markdown",
      "source": [
        "## 3 Get bag of words from all negative reviews"
      ],
      "metadata": {
        "id": "wTAh3WB4derz"
      }
    },
    {
      "cell_type": "markdown",
      "source": [
        "# Melhorias próximos ciclos:\n",
        "-"
      ],
      "metadata": {
        "id": "YS1iqwy1h1CD"
      }
    },
    {
      "cell_type": "code",
      "source": [],
      "metadata": {
        "id": "_OblIjmjjHOk"
      },
      "execution_count": null,
      "outputs": []
    }
  ]
}